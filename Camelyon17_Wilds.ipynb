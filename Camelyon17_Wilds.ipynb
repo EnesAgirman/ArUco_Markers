{
  "nbformat": 4,
  "nbformat_minor": 0,
  "metadata": {
    "colab": {
      "provenance": [],
      "machine_shape": "hm",
      "gpuType": "L4",
      "authorship_tag": "ABX9TyP3hhFdIWhkMJllr6EaI3Sx",
      "include_colab_link": true
    },
    "kernelspec": {
      "name": "python3",
      "display_name": "Python 3"
    },
    "language_info": {
      "name": "python"
    },
    "accelerator": "GPU"
  },
  "cells": [
    {
      "cell_type": "markdown",
      "metadata": {
        "id": "view-in-github",
        "colab_type": "text"
      },
      "source": [
        "<a href=\"https://colab.research.google.com/github/EnesAgirman/ArUco_Markers/blob/main/Camelyon17_Wilds.ipynb\" target=\"_parent\"><img src=\"https://colab.research.google.com/assets/colab-badge.svg\" alt=\"Open In Colab\"/></a>"
      ]
    },
    {
      "cell_type": "code",
      "source": [
        "# Cell 0 ▸ Install dependencies & check CUDA\n",
        "!pip install --quiet wilds torch torchvision tqdm matplotlib\n",
        "\n",
        "# Clone SAM (PyTorch) repo and make it importable as `from sam import SAMSGD`\n",
        "!git clone --depth=1 https://github.com/moskomule/sam.pytorch /content/sam_pytorch\n",
        "\n",
        "import sys, os, torch\n",
        "sys.path.insert(0, \"/content/sam_pytorch\")  # so `import sam` works\n",
        "\n",
        "print(\"CUDA available:\", torch.cuda.is_available())\n",
        "if torch.cuda.is_available():\n",
        "    print(\"Device:\", torch.cuda.get_device_name(0))\n",
        "    torch.cuda.set_device(0)\n",
        "else:\n",
        "    print(\"⚠️  No GPU detected (Runtime ▸ Change runtime type ▸ GPU).\")\n",
        "\n",
        "from google.colab import drive\n",
        "drive.mount('/content/drive')\n"
      ],
      "metadata": {
        "colab": {
          "base_uri": "https://localhost:8080/"
        },
        "id": "RCwMj-arFf1B",
        "outputId": "5ec1a62b-657c-456f-835e-2de9b8bd07c2"
      },
      "execution_count": 1,
      "outputs": [
        {
          "output_type": "stream",
          "name": "stdout",
          "text": [
            "fatal: destination path '/content/sam_pytorch' already exists and is not an empty directory.\n",
            "CUDA available: True\n",
            "Device: NVIDIA L4\n",
            "Drive already mounted at /content/drive; to attempt to forcibly remount, call drive.mount(\"/content/drive\", force_remount=True).\n"
          ]
        }
      ]
    },
    {
      "cell_type": "code",
      "execution_count": 2,
      "metadata": {
        "id": "1solB9Kf3QC4"
      },
      "outputs": [],
      "source": [
        "# Cell 1 ▸ Imports & global knobs\n",
        "from contextlib import nullcontext\n",
        "from collections import Counter\n",
        "from itertools import islice\n",
        "from math import ceil, log\n",
        "import random, math, numpy as np\n",
        "import matplotlib.pyplot as plt\n",
        "import torch.nn as nn\n",
        "from torchvision import models\n",
        "import torch.nn.functional as F\n",
        "from torch.utils.data import DataLoader, Dataset, Subset\n",
        "from torchvision import transforms\n",
        "from wilds import get_dataset\n",
        "from wilds.common.data_loaders import get_eval_loader\n",
        "from tqdm import tqdm\n",
        "\n",
        "\n",
        "device = torch.device(\"cuda\" if torch.cuda.is_available() else \"cpu\")\n",
        "torch.backends.cudnn.benchmark = True\n",
        "\n",
        "# Data-loader knobs (safe defaults; tweak later)\n",
        "BATCH      = 3072\n",
        "WORKERS    = 0         # bump to 2/4 once stable\n",
        "PIN_MEM    = True\n",
        "PERSISTENT = False\n",
        "PREFETCH   = 2\n"
      ]
    },
    {
      "cell_type": "code",
      "source": [
        "# Cell 2 ▸ Camelyon17: clean corrupted archive, ensure metadata, and build a safe subset\n",
        "\n",
        "import os, glob, numpy as np, random\n",
        "from collections import Counter\n",
        "from torchvision import transforms\n",
        "from torch.utils.data import Subset\n",
        "from wilds import get_dataset\n",
        "\n",
        "# -------- 1) Resolve dataset root --------\n",
        "DATA_ROOT = \"/content/data\"  # parent folder that contains 'camelyon17_v1.0'\n",
        "DS_DIR    = os.path.join(DATA_ROOT, \"camelyon17_v1.0\")\n",
        "PATCH_DIR = os.path.join(DS_DIR, \"patches\")\n",
        "TAR_PATH  = os.path.join(DS_DIR, \"archive.tar.gz\")\n",
        "\n",
        "os.makedirs(DATA_ROOT, exist_ok=True)\n",
        "print(f\"DATA_ROOT = {DATA_ROOT}\")\n",
        "\n",
        "if not os.path.exists(PATCH_DIR):\n",
        "    print(f\"⚠️  Patches folder not found at: {PATCH_DIR}\")\n",
        "else:\n",
        "    print(f\"✓ Found patches at: {PATCH_DIR}\")\n",
        "\n",
        "# -------- 2) Remove corrupted tar (if present) so WILDS will re-download metadata --------\n",
        "if os.path.exists(TAR_PATH):\n",
        "    try:\n",
        "        os.remove(TAR_PATH)\n",
        "        print(f\"🧹 Removed corrupted archive: {TAR_PATH}\")\n",
        "    except Exception as e:\n",
        "        print(f\"⚠️  Could not remove {TAR_PATH}: {e}\")\n",
        "\n",
        "# NOTE: We keep existing patches; only the tar (metadata) is re-fetched.\n",
        "\n",
        "# -------- 3) Get dataset (this will re-download any missing metadata/splits) --------\n",
        "dataset = get_dataset(\n",
        "    \"camelyon17\",\n",
        "    root_dir=DATA_ROOT,\n",
        "    download=True  # safe: won't re-download images in patches/, only missing files\n",
        ")\n",
        "\n",
        "# -------- 4) Transforms (as before) --------\n",
        "transform = transforms.Compose([\n",
        "    transforms.Resize((96, 96)),\n",
        "    transforms.ToTensor(),\n",
        "    transforms.Normalize([0.485, 0.456, 0.406],\n",
        "                         [0.229, 0.224, 0.225]),\n",
        "])\n",
        "\n",
        "train_ds = dataset.get_subset(\"train\", transform=transform)\n",
        "val_ds   = dataset.get_subset(\"val\",   transform=transform)\n",
        "test_ds  = dataset.get_subset(\"test\",  transform=transform)\n",
        "\n",
        "# -------- 5) Build a subset that SKIPS missing files --------\n",
        "# We only need a small fraction; we'll probe indices until we collect enough valid ones.\n",
        "DATA_FRACTION = 0.1\n",
        "SEED          = 42\n",
        "\n",
        "random.seed(SEED)\n",
        "np.random.seed(SEED)\n",
        "\n",
        "total_train  = len(train_ds)\n",
        "target_keep  = max(1, int(round(total_train * DATA_FRACTION)))\n",
        "\n",
        "print(f\"[data] Train size = {total_train}, target subset = {target_keep} examples\")\n",
        "\n",
        "# Shuffle candidate indices\n",
        "all_idx = np.random.permutation(total_train)\n",
        "\n",
        "keep_idx = []\n",
        "missing_examples = 0\n",
        "\n",
        "from PIL import UnidentifiedImageError\n",
        "\n",
        "# Helper: check if an index is loadable without crashing the dataloader\n",
        "def _is_loadable(i):\n",
        "    try:\n",
        "        _ = train_ds[i]   # triggers PIL open\n",
        "        return True\n",
        "    except (FileNotFoundError, UnidentifiedImageError) as e:\n",
        "        return False\n",
        "\n",
        "# Collect loadable indices\n",
        "for i in all_idx:\n",
        "    if _is_loadable(i):\n",
        "        keep_idx.append(i)\n",
        "        if len(keep_idx) >= target_keep:\n",
        "            break\n",
        "    else:\n",
        "        missing_examples += 1\n",
        "\n",
        "if len(keep_idx) < target_keep:\n",
        "    print(f\"⚠️  Only found {len(keep_idx)} loadable examples out of requested {target_keep}.\")\n",
        "    print(\"    Some patch files are missing. Training will continue with the available subset.\")\n",
        "\n",
        "train_subset = Subset(train_ds, keep_idx)\n",
        "\n",
        "# -------- 6) Report class distribution on the kept subset --------\n",
        "labels_all = train_ds.y_array.cpu().numpy().astype(int)\n",
        "subset_labels = labels_all[keep_idx] if len(keep_idx) > 0 else np.array([], dtype=int)\n",
        "print(f\"[data] Using {len(keep_idx)}/{total_train} \"\n",
        "      f\"({100*len(keep_idx)/max(1,total_train):.2f} %) examples – \"\n",
        "      f\"class counts: {dict(Counter(subset_labels))}\")\n",
        "print(f\"[data] Skipped examples due to missing/corrupted files: {missing_examples}\")\n",
        "\n",
        "# -------- 7) Tiny sanity check: try loading one kept sample --------\n",
        "if len(keep_idx) > 0:\n",
        "    try:\n",
        "        _ = train_subset[0]\n",
        "        print(\"✓ Sanity check passed: a kept sample opened successfully.\")\n",
        "    except Exception as e:\n",
        "        print(\"✗ Unexpected error opening a kept sample:\", e)\n",
        "        print(\"  Consider fully redownloading patches (set DELETE_PATCHES=True and re-run).\")\n"
      ],
      "metadata": {
        "colab": {
          "base_uri": "https://localhost:8080/"
        },
        "id": "ubYpb6XO7iiC",
        "outputId": "c0b33690-bbbb-4c20-a3aa-99843f2cbc09"
      },
      "execution_count": 3,
      "outputs": [
        {
          "output_type": "stream",
          "name": "stdout",
          "text": [
            "DATA_ROOT = /content/data\n",
            "✓ Found patches at: /content/data/camelyon17_v1.0/patches\n",
            "[data] Train size = 302436, target subset = 30244 examples\n",
            "[data] Using 30244/302436 (10.00 %) examples – class counts: {np.int64(1): 15202, np.int64(0): 15042}\n",
            "[data] Skipped examples due to missing/corrupted files: 0\n",
            "✓ Sanity check passed: a kept sample opened successfully.\n"
          ]
        }
      ]
    },
    {
      "cell_type": "code",
      "source": [
        "# Cell 3 ▸ CUDA prefetcher & loader builder\n",
        "class CUDAPrefetcher:\n",
        "    def __init__(self, loader, device, channels_last=True):\n",
        "        self.loader, self.device = loader, device\n",
        "        self.stream = torch.cuda.Stream(device) if device.type == \"cuda\" else None\n",
        "        self.channels_last = channels_last and (device.type == \"cuda\")\n",
        "\n",
        "    def __iter__(self):\n",
        "        self.iter = iter(self.loader)\n",
        "        if self.stream is not None: self._prefetch()\n",
        "        return self\n",
        "\n",
        "    def __next__(self):\n",
        "        if self.stream is None:\n",
        "            x, y, idx = next(self.iter)\n",
        "            return x.to(self.device), y.to(self.device), idx\n",
        "        torch.cuda.current_stream().wait_stream(self.stream)\n",
        "        if self.next is None: raise StopIteration\n",
        "        batch = self.next; self._prefetch(); return batch\n",
        "\n",
        "    def _prefetch(self):\n",
        "        try: x, y, idx = next(self.iter)\n",
        "        except StopIteration: self.next=None; return\n",
        "        with torch.cuda.stream(self.stream):\n",
        "            x, y, idx = x.to(self.device, non_blocking=True), \\\n",
        "                        y.to(self.device, non_blocking=True), \\\n",
        "                        idx.to(self.device, non_blocking=True)\n",
        "            if self.channels_last: x = x.contiguous(memory_format=torch.channels_last)\n",
        "        self.next = (x, y, idx)\n",
        "\n",
        "class IndexedDataset(Dataset):\n",
        "    \"\"\"Return (x, y, idx) so RS can index per-example losses.\"\"\"\n",
        "    def __init__(self, subset): self.subset = subset\n",
        "    def __len__(self): return len(self.subset)\n",
        "    def __getitem__(self, i):\n",
        "        x, y, _ = self.subset[i]\n",
        "        return x, y, i   # idx = 0…len-1\n",
        "\n",
        "def make_loader(subset, batch_size, shuffle, workers):\n",
        "    kwargs = dict(dataset=IndexedDataset(subset),\n",
        "                  batch_size=batch_size,\n",
        "                  shuffle=shuffle,\n",
        "                  num_workers=workers,\n",
        "                  pin_memory=(PIN_MEM and workers>0))\n",
        "    if workers:\n",
        "        kwargs.update(persistent_workers=PERSISTENT, prefetch_factor=PREFETCH)\n",
        "    return DataLoader(**kwargs)\n",
        "\n",
        "train_loader = make_loader(train_subset, BATCH, True,  WORKERS)\n",
        "rs_loader    = make_loader(train_subset, BATCH, False, WORKERS)\n",
        "val_loader   = get_eval_loader(\"standard\", val_ds,  batch_size=BATCH)\n",
        "test_loader  = get_eval_loader(\"standard\", test_ds, batch_size=BATCH)\n",
        "print(\"[data] loaders ready ✓\")\n"
      ],
      "metadata": {
        "id": "dTz6ymnH5HLe",
        "colab": {
          "base_uri": "https://localhost:8080/"
        },
        "outputId": "fe0fc166-dfef-4ed1-e854-4f3e32208325"
      },
      "execution_count": 4,
      "outputs": [
        {
          "output_type": "stream",
          "name": "stdout",
          "text": [
            "[data] loaders ready ✓\n"
          ]
        }
      ]
    },
    {
      "cell_type": "code",
      "source": [
        "# Cell 4 ▸ SimpleCNN (tiny, fast)\n",
        "'''class SimpleCNN(nn.Module):\n",
        "    def __init__(self, num_classes=2):\n",
        "        super().__init__()\n",
        "        self.conv1 = nn.Conv2d(3, 16, 3, padding=1)   # 96 → 96\n",
        "        self.conv2 = nn.Conv2d(16, 32, 3, padding=1)  # 48 → 48\n",
        "        self.pool  = nn.MaxPool2d(2)                  # /2 each time\n",
        "        self.fc1   = nn.Linear(32*24*24, 128)\n",
        "        self.fc2   = nn.Linear(128, num_classes)\n",
        "\n",
        "    def forward(self, x):\n",
        "        x = self.pool(F.relu(self.conv1(x)))           # 96 → 48\n",
        "        x = self.pool(F.relu(self.conv2(x)))           # 48 → 24\n",
        "        x = torch.flatten(x, 1)\n",
        "        x = F.relu(self.fc1(x))\n",
        "        return self.fc2(x)\n",
        "\n",
        "# Cell 4 ▸ ResNet-18 (random init, drop-in replacement for SimpleCNN)\n",
        "import torch.nn as nn\n",
        "from torchvision import models\n",
        "\n",
        "class SimpleCNN(nn.Module):\n",
        "    \"\"\"Randomly initialized ResNet-18 with 2-class head; keeps .fc2 for init_bias().\"\"\"\n",
        "    def __init__(self, num_classes=2):\n",
        "        super().__init__()\n",
        "        backbone = models.resnet18(weights=None)  # no pretraining\n",
        "        in_feats = backbone.fc.in_features\n",
        "        backbone.fc = nn.Linear(in_feats, num_classes)  # new classifier head\n",
        "        self.backbone = backbone\n",
        "        self.fc2 = self.backbone.fc  # keep name for init_bias compatibility\n",
        "\n",
        "    def forward(self, x):\n",
        "        return self.backbone(x)\n",
        "        '''\n",
        "\n",
        "\n",
        "class SimpleCNN(nn.Module):\n",
        "    def __init__(self, num_classes=2, in_shape=(3, 96, 96)):\n",
        "        super().__init__()\n",
        "        C, H, W = in_shape\n",
        "        self.classifier = nn.Linear(C * H * W, num_classes)\n",
        "\n",
        "    def forward(self, x):\n",
        "        x = torch.flatten(x, 1)  # (B, C*H*W)\n",
        "        return self.classifier(x)  # logits for CrossEntropyLoss\n",
        "\n"
      ],
      "metadata": {
        "id": "zuJV-njQ4LnO"
      },
      "execution_count": 5,
      "outputs": []
    },
    {
      "cell_type": "code",
      "source": [
        "# ─── Cell 4: Train & Eval Helpers ─────────────────────────────────────────────\n",
        "def train_epoch(model, loader, optimizer, criterion):\n",
        "    model.train()\n",
        "    total_loss = 0\n",
        "    for x, y, _ in tqdm(loader):\n",
        "        x, y = x.to(device), y.to(device)\n",
        "        optimizer.zero_grad()\n",
        "        loss = criterion(model(x), y)\n",
        "        loss.backward()\n",
        "        optimizer.step()\n",
        "        total_loss += loss.item() * x.size(0)\n",
        "    return total_loss / len(loader.dataset)\n",
        "\n",
        "def evaluate(model, loader):\n",
        "    model.eval()\n",
        "    correct = 0\n",
        "    total = 0\n",
        "    with torch.no_grad():\n",
        "        for x, y, _ in loader:\n",
        "            x = x.to(device, non_blocking=True)\n",
        "            y = y.to(device, non_blocking=True)\n",
        "            preds = model(x).argmax(dim=1)\n",
        "            correct += (preds == y).sum().item()\n",
        "            total += y.size(0)\n",
        "    return correct / total\n",
        "\n",
        "\n",
        "import torch.nn.functional as F\n",
        "\n",
        "from collections import Counter\n",
        "\n",
        "def evaluate_with_diagnostics(model, loader):\n",
        "    model.eval()\n",
        "    correct = 0\n",
        "    total = 0\n",
        "    all_preds = []\n",
        "    all_labels = []\n",
        "    with torch.no_grad():\n",
        "        for x, y, _ in loader:\n",
        "            x = x.to(device, non_blocking=True)\n",
        "            y = y.to(device, non_blocking=True)\n",
        "            logits = model(x)\n",
        "            preds = logits.argmax(dim=1)\n",
        "            correct += (preds == y).sum().item()\n",
        "            total += y.size(0)\n",
        "            all_preds.append(preds.cpu())\n",
        "            all_labels.append(y.cpu())\n",
        "    preds = torch.cat(all_preds).tolist()\n",
        "    labels = torch.cat(all_labels).tolist()\n",
        "    acc = correct / total if total > 0 else 0.0\n",
        "    print(f\"[Eval] Accuracy: {acc:.4f}\")\n",
        "    print(\"Prediction distribution:\", Counter(preds))\n",
        "    print(\"True label distribution:\", Counter(labels))\n",
        "    cm = torch.zeros(2, 2, dtype=torch.int64)\n",
        "    for p, t in zip(preds, labels):\n",
        "        cm[t, p] += 1  # row=true, col=pred\n",
        "    print(\"Confusion matrix (rows=true, cols=pred):\")\n",
        "    print(cm)\n",
        "    return acc\n",
        "\n",
        "from collections import Counter\n",
        "\n",
        "def evaluate_with_diagnostics(model, loader):\n",
        "    model.eval()\n",
        "    correct = 0\n",
        "    total = 0\n",
        "    all_preds = []\n",
        "    all_labels = []\n",
        "    with torch.no_grad():\n",
        "        for x, y, _ in loader:\n",
        "            x = x.to(device, non_blocking=True)\n",
        "            y = y.to(device, non_blocking=True)\n",
        "            logits = model(x)\n",
        "            preds = logits.argmax(dim=1)\n",
        "            correct += (preds == y).sum().item()\n",
        "            total += y.size(0)\n",
        "            all_preds.append(preds.cpu())\n",
        "            all_labels.append(y.cpu())\n",
        "    preds = torch.cat(all_preds).tolist()\n",
        "    labels = torch.cat(all_labels).tolist()\n",
        "    acc = correct / total if total > 0 else 0.0\n",
        "    print(f\"[Eval] Accuracy: {acc:.4f}\")\n",
        "    print(\"Prediction distribution:\", Counter(preds))\n",
        "    print(\"True label distribution:\", Counter(labels))\n",
        "    cm = torch.zeros(2, 2, dtype=torch.int64)\n",
        "    for p, t in zip(preds, labels):\n",
        "        cm[t, p] += 1  # row=true, col=pred\n",
        "    print(\"Confusion matrix (rows=true, cols=pred):\")\n",
        "    print(cm)\n",
        "    return acc\n",
        "\n",
        "\n",
        "# --- Comparison baselines (optional) ---\n",
        "def train_standard(model, loader, epochs, lr):\n",
        "    model.to(device)\n",
        "    opt = SGD(model.parameters(), lr=lr)\n",
        "    ce = nn.CrossEntropyLoss()\n",
        "    losses = []\n",
        "    for ep in range(epochs):\n",
        "        model.train()\n",
        "        total = 0.0\n",
        "        for x, y, _ in loader:\n",
        "            x = x.to(device, non_blocking=True)\n",
        "            y = y.to(device, non_blocking=True)\n",
        "            opt.zero_grad()\n",
        "            loss = ce(model(x), y)\n",
        "            loss.backward()\n",
        "            opt.step()\n",
        "            total += loss.item() * x.size(0)\n",
        "        avg = total / len(loader.dataset)\n",
        "        losses.append(avg)\n",
        "        print(f\"[SGD] Epoch {ep+1}/{epochs} CE loss: {avg:.4f}\", flush=True)\n",
        "    return losses\n",
        "\n",
        "def train_sam(model, loader, epochs, lr, rho=0.05):\n",
        "    model.to(device)\n",
        "    base_opt = SGD\n",
        "    optimizer = base_opt(model.parameters(), lr=lr)\n",
        "    criterion = nn.CrossEntropyLoss()\n",
        "    losses = []\n",
        "    for ep in range(epochs):\n",
        "        model.train()\n",
        "        total = 0.0\n",
        "        for x, y, _ in loader:\n",
        "            x = x.to(device, non_blocking=True)\n",
        "            y = y.to(device, non_blocking=True)\n",
        "            optimizer.zero_grad()\n",
        "            logits = model(x)\n",
        "            loss = criterion(logits, y)\n",
        "            loss.backward()\n",
        "            grad_norm = torch.norm(torch.stack([p.grad.norm() for p in model.parameters() if p.grad is not None]))\n",
        "            scale = rho / (grad_norm + 1e-12)\n",
        "            e_ws = []\n",
        "            with torch.no_grad():\n",
        "                for p in model.parameters():\n",
        "                    if p.grad is None:\n",
        "                        e_ws.append(None)\n",
        "                        continue\n",
        "                    e_w = p.grad * scale\n",
        "                    p.add_(e_w)\n",
        "                    e_ws.append(e_w)\n",
        "            optimizer.zero_grad()\n",
        "            logits2 = model(x)\n",
        "            loss2 = criterion(logits2, y)\n",
        "            loss2.backward()\n",
        "            with torch.no_grad():\n",
        "                for p, e_w in zip(model.parameters(), e_ws):\n",
        "                    if e_w is not None:\n",
        "                        p.sub_(e_w)\n",
        "            optimizer.step()\n",
        "            total += loss2.item() * x.size(0)\n",
        "        avg = total / len(loader.dataset)\n",
        "        losses.append(avg)\n",
        "        print(f\"[SAM] Epoch {ep+1}/{epochs} CE loss: {avg:.4f}\", flush=True)\n",
        "    return losses\n"
      ],
      "metadata": {
        "id": "qHBrIemB4GyV"
      },
      "execution_count": 6,
      "outputs": []
    },
    {
      "cell_type": "code",
      "source": [
        "# Cell 5 ▸ proj_simplex & improved κ function (RS)\n",
        "def proj_simplex(v: torch.Tensor) -> torch.Tensor:\n",
        "    \"\"\"Projection onto the probability simplex (∑=1, v≥0).\"\"\"\n",
        "    u, _ = torch.sort(v, descending=True)\n",
        "    cssv = torch.cumsum(u, 0) - 1\n",
        "    ind  = torch.arange(1, v.numel()+1, device=v.device, dtype=v.dtype)\n",
        "    t    = cssv / ind\n",
        "    support = u > t\n",
        "    if not support.any(): return torch.full_like(v, 1./v.numel())\n",
        "    rho   = support.nonzero(as_tuple=False).max()\n",
        "    theta = t[rho]\n",
        "    return torch.clamp(v - theta, min=0)\n",
        "\n",
        "class KappaFunctionImproved(torch.autograd.Function):\n",
        "    \"\"\"κ(P̂) with numerically-stable forward / backward (details in paper).\"\"\"\n",
        "    @staticmethod\n",
        "    def forward(ctx, F, P_hat, tau,\n",
        "                distance_scale, min_div, softplus_temp=2., neg_scale=0.1, h_max=0.5):\n",
        "        a  = torch.dot(F, P_hat)\n",
        "        b  = torch.clamp(torch.sum(F*F), 1e-12)\n",
        "        h  = torch.clamp((tau - a)/b, -h_max, h_max)\n",
        "        P_star = proj_simplex(P_hat + h*F)\n",
        "\n",
        "        diff = P_star - P_hat\n",
        "        D_eff = distance_scale*0.5*torch.sum(diff*diff) + min_div\n",
        "        raw   = (torch.dot(P_star, F) - tau) / D_eff\n",
        "        # use functional.softplus; F here is a tensor, so call the module explicitly\n",
        "        kappa = torch.where(\n",
        "            raw >= 0,\n",
        "            torch.nn.functional.softplus(raw / softplus_temp) * softplus_temp,\n",
        "            raw * neg_scale,\n",
        "        )\n",
        "        ctx.save_for_backward(F, P_hat, P_star, raw,\n",
        "                              torch.tensor([distance_scale, min_div,\n",
        "                                            softplus_temp, neg_scale, h_max], device=F.device))\n",
        "        ctx.tau = tau\n",
        "        return kappa, raw  # second output only for diagnostics\n",
        "\n",
        "    @staticmethod\n",
        "    def backward(ctx, g_kappa, g_raw_unused=None):\n",
        "        # Full analytical derivative (see original notebook).\n",
        "        # For brevity, we omit comments – unchanged logic from forward/backward pair.\n",
        "        F, P_hat, P_star, raw, aux = ctx.saved_tensors\n",
        "        distance_scale, min_div, softplus_temp, neg_scale, h_max = aux\n",
        "        distance_scale=float(distance_scale); min_div=float(min_div)\n",
        "        softplus_temp=float(softplus_temp); neg_scale=float(neg_scale); h_max=float(h_max)\n",
        "        tau = ctx.tau\n",
        "\n",
        "        diff = P_star - P_hat\n",
        "        D_eff = distance_scale*0.5*torch.sum(diff*diff) + min_div\n",
        "        a = torch.dot(F, P_hat); b = torch.clamp(torch.sum(F*F), 1e-12)\n",
        "        h = torch.clamp((tau - a)/b, -h_max, h_max)\n",
        "\n",
        "        support = P_star > 0\n",
        "        def J(u):\n",
        "            u_s = u[support]; out = torch.zeros_like(u)\n",
        "            out[support] = u_s - u_s.mean() if u_s.numel() else out[support]\n",
        "            return out\n",
        "\n",
        "        t = J(F); s = J(diff)\n",
        "        Ft, Fs = torch.dot(F, t), torch.dot(F, s)\n",
        "        grad_h = (-(b*P_hat) - (tau - a)*2*F) / b**2\n",
        "        A = P_star + h*t + grad_h*Ft\n",
        "        B = h*s   + grad_h*Fs\n",
        "        grad_raw = (A*D_eff - (torch.dot(P_star, F)-tau)*B) / D_eff**2\n",
        "        grad_act = torch.where(raw>=0,\n",
        "                               torch.sigmoid(raw/softplus_temp),\n",
        "                               torch.full_like(raw, neg_scale))\n",
        "        grad_F = g_kappa * grad_raw * grad_act\n",
        "        return grad_F, None, None, None, None, None, None, None\n"
      ],
      "metadata": {
        "id": "mMwbqn6xmgEu"
      },
      "execution_count": 7,
      "outputs": []
    },
    {
      "cell_type": "code",
      "source": [
        "# Cell 6 ▸ CE / Accuracy helpers\n",
        "import torch\n",
        "import torch.nn as nn\n",
        "from tqdm import tqdm\n",
        "\n",
        "def train_epoch(model, loader, optimizer, criterion):\n",
        "    model.train()\n",
        "    total = 0.0\n",
        "    n = 0\n",
        "    for x, y, _ in tqdm(loader, leave=False):\n",
        "        x, y = x.to(device), y.to(device)\n",
        "        optimizer.zero_grad(set_to_none=True)\n",
        "        loss = criterion(model(x), y)\n",
        "        loss.backward()\n",
        "        optimizer.step()\n",
        "        total += loss.item() * x.size(0)\n",
        "        n += x.size(0)\n",
        "    return total / max(1, n)\n",
        "\n",
        "@torch.no_grad()\n",
        "def eval_ce_loss(model, loader):\n",
        "    model.eval()\n",
        "    ce = nn.CrossEntropyLoss(reduction='sum')\n",
        "    total, n = 0.0, 0\n",
        "    for x, y, _ in loader:\n",
        "        x, y = x.to(device, non_blocking=True), y.to(device, non_blocking=True)\n",
        "        total += ce(model(x), y).item()\n",
        "        n += y.size(0)\n",
        "    return total / max(1, n)\n",
        "\n",
        "@torch.no_grad()\n",
        "def eval_accuracy(model, loader):\n",
        "    model.eval()\n",
        "    ok, n = 0, 0\n",
        "    for x, y, _ in loader:\n",
        "        x, y = x.to(device, non_blocking=True), y.to(device, non_blocking=True)\n",
        "        ok += (model(x).argmax(1) == y).sum().item()\n",
        "        n  += y.size(0)\n",
        "    return ok / max(1, n)\n"
      ],
      "metadata": {
        "id": "k7RLnkyR8RRw"
      },
      "execution_count": 8,
      "outputs": []
    },
    {
      "cell_type": "code",
      "source": [
        "# Cell 7 ▸ SGD, SAM, RS  (with per-epoch elapsed time printing)\n",
        "# expects: from Cell 0 → sys.path includes \"/content/sam_pytorch\"\n",
        "from sam import SAMSGD\n",
        "import torch\n",
        "import torch.nn as nn\n",
        "import time\n",
        "\n",
        "def _fmt_hms(s):\n",
        "    h = int(s // 3600)\n",
        "    m = int((s % 3600) // 60)\n",
        "    sec = s - 3600*h - 60*m\n",
        "    if h > 0:\n",
        "        return f\"{h:d}h {m:02d}m {sec:05.2f}s\"\n",
        "    elif m > 0:\n",
        "        return f\"{m:d}m {sec:05.2f}s\"\n",
        "    else:\n",
        "        return f\"{sec:.2f}s\"\n",
        "\n",
        "def train_standard(model, train_loader, val_loader, epochs=10, lr=1e-3, print_every=5):\n",
        "    opt = torch.optim.SGD(model.parameters(), lr=lr)\n",
        "    ce  = nn.CrossEntropyLoss()\n",
        "    tr_hist, va_hist, va_acc_hist = [], [], []\n",
        "    t0 = time.perf_counter()\n",
        "    for ep in range(1, epochs+1):\n",
        "        tr = train_epoch(model, train_loader, opt, ce)\n",
        "        va = eval_ce_loss(model, val_loader)\n",
        "        acc = eval_accuracy(model, val_loader)\n",
        "        tr_hist.append(tr); va_hist.append(va); va_acc_hist.append(acc)\n",
        "        elapsed = _fmt_hms(time.perf_counter() - t0)\n",
        "        if ep % print_every == 0:\n",
        "            print(f\"[SGD]  ep{ep:02d} trainCE={tr:.4f}  valCE={va:.4f}  valAcc={acc:.4f}  | t={elapsed}\")\n",
        "        else:\n",
        "            print(f\"[SGD]  ep{ep:02d} trainCE={tr:.4f}  | t={elapsed}\")\n",
        "    return tr_hist, va_hist, va_acc_hist\n",
        "\n",
        "def train_sam(model, train_loader, val_loader, epochs=10, lr=1e-3, rho=0.05, print_every=5):\n",
        "    \"\"\"SAM baseline using SAMSGD exactly like the repo README (closure-based).\"\"\"\n",
        "    model.to(device)\n",
        "    optimizer = SAMSGD(model.parameters(), lr=lr, rho=rho)\n",
        "    criterion = nn.CrossEntropyLoss()\n",
        "    tr_hist, va_hist, va_acc_hist = [], [], []\n",
        "    t0 = time.perf_counter()\n",
        "\n",
        "    for ep in range(1, epochs+1):\n",
        "        model.train()\n",
        "        total, n = 0.0, 0\n",
        "        for x, y, _ in train_loader:\n",
        "            x = x.to(device, non_blocking=True)\n",
        "            y = y.to(device, non_blocking=True)\n",
        "\n",
        "            def closure():\n",
        "                optimizer.zero_grad(set_to_none=True)\n",
        "                logits = model(x)\n",
        "                loss = criterion(logits, y)\n",
        "                loss.backward()\n",
        "                return loss\n",
        "\n",
        "            loss = optimizer.step(closure)  # two-step SAM internally\n",
        "            total += loss.item() * x.size(0)\n",
        "            n += x.size(0)\n",
        "\n",
        "        tr = total / max(1, n)\n",
        "        va = eval_ce_loss(model, val_loader)\n",
        "        acc = eval_accuracy(model, val_loader)\n",
        "        tr_hist.append(tr); va_hist.append(va); va_acc_hist.append(acc)\n",
        "        elapsed = _fmt_hms(time.perf_counter() - t0)\n",
        "        if ep % print_every == 0:\n",
        "            print(f\"[SAM]  ep{ep:02d} trainCE={tr:.4f}  valCE={va:.4f}  valAcc={acc:.4f}  | t={elapsed}\")\n",
        "        else:\n",
        "            print(f\"[SAM]  ep{ep:02d} trainCE={tr:.4f}  | t={elapsed}\")\n",
        "\n",
        "    return tr_hist, va_hist, va_acc_hist\n",
        "\n",
        "# --- RS (with validation tracking & per-epoch elapsed time) ---\n",
        "# --- RS (fixed-τ, always continue regardless of κ) ---\n",
        "def train_rs(model,\n",
        "             rs_loader,\n",
        "             val_loader,\n",
        "             epochs        = 20,\n",
        "             lr            = 2e-4,\n",
        "             warmup_epochs = 3,\n",
        "             # ---- τ / κ control (τ is fixed to base_tau; others ignored) ----\n",
        "             tau_min           = 0.05,    # ignored\n",
        "             tau_shrink_factor = 0.9,     # ignored\n",
        "             kappa_tol         = 1e-6,    # ignored\n",
        "             # ---- κ function hyper-params -----------------------------------\n",
        "             base_tau       = 0.1,\n",
        "             distance_scale = 1.0,\n",
        "             min_div        = 1e-4,\n",
        "             softplus_temp  = 2.0,\n",
        "             neg_scale      = 0.1,\n",
        "             h_max          = 0.5,\n",
        "             # ---- LR shrink param (ignored for fixed-τ) ---------------------\n",
        "             lr_shrink_factor = 0.2,      # ignored\n",
        "             print_every    = 5):\n",
        "    \"\"\"\n",
        "    RS training with τ fixed to base_tau for all epochs.\n",
        "    Warmup: CE-only for `warmup_epochs`.\n",
        "    After warmup: ALWAYS do RS surrogate + CE, even if κ < 0.\n",
        "    \"\"\"\n",
        "    import time\n",
        "    model.to(device)\n",
        "    opt   = torch.optim.Adam(model.parameters(), lr=lr)\n",
        "    ce_el = nn.CrossEntropyLoss(reduction='none')\n",
        "\n",
        "    N = len(rs_loader.dataset)\n",
        "    P_hat = torch.full((N,), 1./N, device=device)\n",
        "\n",
        "    def gpu(loader):\n",
        "        return CUDAPrefetcher(loader, device) if (device.type==\"cuda\" and WORKERS==0) else loader\n",
        "\n",
        "    @torch.no_grad()\n",
        "    def compute_F():\n",
        "        model.eval()\n",
        "        F_vals = torch.zeros(N, device=device)\n",
        "        for x, y, idx in gpu(rs_loader):\n",
        "            F_vals[idx] = ce_el(model(x.to(device)), y.to(device))\n",
        "        return F_vals\n",
        "\n",
        "    # --- init ---\n",
        "    F_vals = compute_F().requires_grad_(True)\n",
        "    tau = float(base_tau)  # FIXED τ\n",
        "    print(f\"[RS] Using fixed τ = {tau:.4f} for all epochs.\")\n",
        "\n",
        "    kappa_hist, tr_hist, va_hist, va_acc_hist = [], [], [], []\n",
        "    t0 = time.perf_counter()\n",
        "    total_updates = 0\n",
        "\n",
        "    # --- warmup: CE-only ---\n",
        "    for ep in range(1, warmup_epochs+1):\n",
        "        tr = train_epoch(model, rs_loader, opt, nn.CrossEntropyLoss())\n",
        "        va = eval_ce_loss(model, val_loader)\n",
        "        acc= eval_accuracy(model, val_loader)\n",
        "        kappa_hist.append(0.0)\n",
        "        tr_hist.append(tr); va_hist.append(va); va_acc_hist.append(acc)\n",
        "        elapsed = _fmt_hms(time.perf_counter() - t0)\n",
        "        msg = f\"[RS-warm] ep{ep:02d} τ={tau:.4f}  trainCE={tr:.4f}\"\n",
        "        msg += f\"  valCE={va:.4f}  valAcc={acc:.4f}\" if ep % print_every == 0 else \"\"\n",
        "        print(f\"{msg}  | t={elapsed}\")\n",
        "\n",
        "    # --- main loop: ALWAYS take RS step (κ may be negative) ---\n",
        "    for ep in range(warmup_epochs+1, epochs+1):\n",
        "        # recompute per-example losses\n",
        "        F_vals = compute_F().requires_grad_(True)\n",
        "\n",
        "        # κ for logging (and gradient)\n",
        "        kappa, _ = KappaFunctionImproved.apply(\n",
        "            F_vals, P_hat, tau,\n",
        "            distance_scale, min_div,\n",
        "            softplus_temp, neg_scale, h_max)\n",
        "        kappa_val = float(kappa.item())\n",
        "\n",
        "        # RS update: surrogate + CE\n",
        "        model.train(); total=0.0\n",
        "        F_vals.grad = None\n",
        "        kappa.backward()\n",
        "        w = F_vals.grad.detach()\n",
        "\n",
        "        steps_this_epoch = 0\n",
        "        for x, y, idx in gpu(rs_loader):\n",
        "            x, y, idx = x.to(device), y.to(device), idx.to(device)\n",
        "            opt.zero_grad(set_to_none=True)\n",
        "            logits    = model(x)\n",
        "            ce_batch  = ce_el(logits, y)\n",
        "            surrogate = torch.dot(w[idx], ce_batch)\n",
        "            loss = 0.1 * surrogate + ce_batch.mean()\n",
        "            loss.backward(); opt.step()\n",
        "            total += ce_batch.mean().item() * x.size(0)\n",
        "            steps_this_epoch += 1\n",
        "\n",
        "        total_updates += steps_this_epoch\n",
        "\n",
        "        # Update P̂ every epoch (with fixed τ)\n",
        "        with torch.no_grad():\n",
        "            a = torch.dot(F_vals, P_hat)\n",
        "            b = torch.sum(F_vals*F_vals).clamp(1e-12)\n",
        "            h = torch.clamp((tau - a)/b, -h_max, h_max)\n",
        "            P_star = proj_simplex(P_hat + h*F_vals)\n",
        "            P_hat  = 0.7*P_hat + 0.3*P_star\n",
        "            P_hat /= P_hat.sum()\n",
        "\n",
        "        tr = total / N\n",
        "        va = eval_ce_loss(model, val_loader)\n",
        "        acc= eval_accuracy(model, val_loader)\n",
        "        kappa_hist.append(kappa_val); tr_hist.append(tr); va_hist.append(va); va_acc_hist.append(acc)\n",
        "\n",
        "        elapsed = _fmt_hms(time.perf_counter() - t0)\n",
        "        if ep % print_every == 0:\n",
        "            print(f\"[RS]    ep{ep:02d} τ={tau:.4f}  κ={kappa_val:+.2e}  trainCE={tr:.4f}  valCE={va:.4f}  valAcc={acc:.4f}\"\n",
        "                  f\"  steps={steps_this_epoch}  | t={elapsed}\")\n",
        "        else:\n",
        "            print(f\"[RS]    ep{ep:02d} τ={tau:.4f}  κ={kappa_val:+.2e}  trainCE={tr:.4f}  | t={elapsed}\")\n",
        "\n",
        "    print(f\"[RS] total optimizer update batches taken: {total_updates}\")\n",
        "    return kappa_hist, tr_hist, va_hist, va_acc_hist\n",
        "\n"
      ],
      "metadata": {
        "id": "1hRxeZBQELsB"
      },
      "execution_count": 9,
      "outputs": []
    },
    {
      "cell_type": "code",
      "source": [
        "# Cell 8 ▸ Train RS + baselines, plot, evaluate\n",
        "import math\n",
        "import matplotlib.pyplot as plt\n",
        "\n",
        "EPOCHS_RS   = 250\n",
        "EPOCHS_BASE = 50\n",
        "LR_RS       = 3e-3\n",
        "LR_SGD      = 1e-1\n",
        "LR_SAM      = 1e-1\n",
        "\n",
        "# --- Models ---\n",
        "model_rs  = SimpleCNN().to(device)\n",
        "model_sgd = SimpleCNN().to(device)\n",
        "model_sam = SimpleCNN().to(device)\n",
        "\n",
        "# --- Break-tie bias (helps early convergence) ---\n",
        "def init_bias(m, prior=0.5):\n",
        "    b = math.log(prior/(1-prior)) if prior not in (0,1) else 0.\n",
        "    with torch.no_grad():\n",
        "        m.classifier.bias[:] = torch.tensor([0., b], device=device)\n",
        "for m in (model_rs, model_sgd, model_sam): init_bias(m, 0.5)\n",
        "\n",
        "# --- Train ---\n",
        "print(\"▶ RS training …\")\n",
        "kappa_hist, ce_tr_rs, ce_val_rs, acc_val_rs = train_rs(\n",
        "    model_rs, rs_loader, val_loader,\n",
        "    epochs=EPOCHS_RS, lr=LR_RS, warmup_epochs=3,\n",
        "    tau_min=0.05, kappa_tol=1e-6, print_every=5,\n",
        "    lr_shrink_factor=0.2, base_tau=0.05\n",
        ")\n",
        "\n",
        "print(\"\\n▶ SGD baseline …\")\n",
        "tr_sgd, val_sgd, acc_sgd = train_standard(\n",
        "    model_sgd, train_loader, val_loader,\n",
        "    epochs=EPOCHS_BASE, lr=LR_SGD, print_every=5\n",
        ")\n",
        "\n",
        "print(\"\\n▶ SAM baseline …\")\n",
        "tr_sam, val_sam, acc_sam = train_sam(\n",
        "    model_sam, train_loader, val_loader,\n",
        "    epochs=EPOCHS_BASE, lr=LR_SAM, rho=0.05, print_every=5\n",
        ")\n",
        "\n",
        "# --- Final validation snapshot (redundant but explicit) ---\n",
        "final_acc_sgd = acc_sgd[-1] if acc_sgd else float('nan')\n",
        "final_acc_rs  = acc_val_rs[-1] if acc_val_rs else float('nan')\n",
        "final_acc_sam = acc_sam[-1] if acc_sam else float('nan')\n",
        "\n",
        "print(\"\\nFinal epoch summary:\")\n",
        "print(f\"  SGD –   trainCE={tr_sgd[-1]:.4f}  valCE={val_sgd[-1]:.4f}  valAcc={final_acc_sgd:.4f}\")\n",
        "print(f\"  RS  –   trainCE={ce_tr_rs[-1]:.4f}  valCE={ce_val_rs[-1]:.4f}  valAcc={final_acc_rs:.4f}\")\n",
        "print(f\"  SAM –   trainCE={tr_sam[-1]:.4f}  valCE={val_sam[-1]:.4f}  valAcc={final_acc_sam:.4f}\")\n",
        "\n",
        "\n"
      ],
      "metadata": {
        "colab": {
          "base_uri": "https://localhost:8080/"
        },
        "id": "nxZWwKb5QEF2",
        "outputId": "748145f8-91bc-4736-8652-169672361278"
      },
      "execution_count": 10,
      "outputs": [
        {
          "output_type": "stream",
          "name": "stdout",
          "text": [
            "▶ RS training …\n",
            "[RS] Using fixed τ = 0.0500 for all epochs.\n"
          ]
        },
        {
          "output_type": "stream",
          "name": "stderr",
          "text": []
        },
        {
          "output_type": "stream",
          "name": "stdout",
          "text": [
            "[RS-warm] ep01 τ=0.0500  trainCE=19.9437  | t=2m 03.26s\n"
          ]
        },
        {
          "output_type": "stream",
          "name": "stderr",
          "text": []
        },
        {
          "output_type": "stream",
          "name": "stdout",
          "text": [
            "[RS-warm] ep02 τ=0.0500  trainCE=10.7705  | t=4m 06.53s\n"
          ]
        },
        {
          "output_type": "stream",
          "name": "stderr",
          "text": []
        },
        {
          "output_type": "stream",
          "name": "stdout",
          "text": [
            "[RS-warm] ep03 τ=0.0500  trainCE=9.8212  | t=6m 09.81s\n",
            "[RS]    ep04 τ=0.0500  κ=+1.07e+04  trainCE=63.8909  | t=8m 47.63s\n",
            "[RS]    ep05 τ=0.0500  κ=+4.65e+04  trainCE=47.4600  valCE=26.4804  valAcc=0.5633  steps=10  | t=11m 23.99s\n",
            "[RS]    ep06 τ=0.0500  κ=+1.69e+05  trainCE=28.8869  | t=14m 00.34s\n",
            "[RS]    ep07 τ=0.0500  κ=+6.88e+04  trainCE=21.7937  | t=16m 36.48s\n",
            "[RS]    ep08 τ=0.0500  κ=+3.82e+04  trainCE=19.4969  | t=19m 12.34s\n",
            "[RS]    ep09 τ=0.0500  κ=+1.53e+04  trainCE=13.9921  | t=21m 48.72s\n",
            "[RS]    ep10 τ=0.0500  κ=+1.84e+04  trainCE=11.1469  valCE=9.2276  valAcc=0.5936  steps=10  | t=24m 24.89s\n",
            "[RS]    ep11 τ=0.0500  κ=+1.41e+04  trainCE=8.9140  | t=27m 00.76s\n",
            "[RS]    ep12 τ=0.0500  κ=+1.04e+04  trainCE=8.0351  | t=29m 36.66s\n",
            "[RS]    ep13 τ=0.0500  κ=+8.49e+03  trainCE=7.1085  | t=32m 12.14s\n",
            "[RS]    ep14 τ=0.0500  κ=+7.21e+03  trainCE=6.3134  | t=34m 48.32s\n",
            "[RS]    ep15 τ=0.0500  κ=+6.69e+03  trainCE=5.4629  valCE=4.4666  valAcc=0.6087  steps=10  | t=37m 24.48s\n",
            "[RS]    ep16 τ=0.0500  κ=+4.89e+03  trainCE=4.5169  | t=40m 00.63s\n",
            "[RS]    ep17 τ=0.0500  κ=+4.58e+03  trainCE=3.8796  | t=42m 36.45s\n",
            "[RS]    ep18 τ=0.0500  κ=+4.33e+03  trainCE=4.8847  | t=45m 12.13s\n",
            "[RS]    ep19 τ=0.0500  κ=+5.04e+03  trainCE=7.1801  | t=47m 47.69s\n",
            "[RS]    ep20 τ=0.0500  κ=+6.49e+03  trainCE=7.1142  valCE=8.9700  valAcc=0.6184  steps=10  | t=50m 23.36s\n",
            "[RS]    ep21 τ=0.0500  κ=+4.74e+04  trainCE=10.3281  | t=52m 58.92s\n",
            "[RS]    ep22 τ=0.0500  κ=+5.66e+03  trainCE=6.0605  | t=55m 34.56s\n",
            "[RS]    ep23 τ=0.0500  κ=+9.21e+03  trainCE=11.1120  | t=58m 10.25s\n",
            "[RS]    ep24 τ=0.0500  κ=+4.90e+04  trainCE=14.1607  | t=1h 00m 45.81s\n",
            "[RS]    ep25 τ=0.0500  κ=+6.01e+03  trainCE=9.8211  valCE=7.0548  valAcc=0.5511  steps=10  | t=1h 03m 21.61s\n",
            "[RS]    ep26 τ=0.0500  κ=+2.30e+04  trainCE=6.4676  | t=1h 05m 57.32s\n",
            "[RS]    ep27 τ=0.0500  κ=+6.79e+03  trainCE=6.9718  | t=1h 08m 32.87s\n",
            "[RS]    ep28 τ=0.0500  κ=+3.91e+03  trainCE=5.7092  | t=1h 11m 08.42s\n",
            "[RS]    ep29 τ=0.0500  κ=+3.74e+03  trainCE=5.0063  | t=1h 13m 43.95s\n",
            "[RS]    ep30 τ=0.0500  κ=+2.49e+03  trainCE=4.1882  valCE=3.7096  valAcc=0.6109  steps=10  | t=1h 16m 19.15s\n",
            "[RS]    ep31 τ=0.0500  κ=+2.19e+03  trainCE=3.7201  | t=1h 18m 54.48s\n",
            "[RS]    ep32 τ=0.0500  κ=+1.90e+03  trainCE=3.3170  | t=1h 21m 30.00s\n",
            "[RS]    ep33 τ=0.0500  κ=+1.70e+03  trainCE=10.9408  | t=1h 24m 05.45s\n",
            "[RS]    ep34 τ=0.0500  κ=+1.19e+04  trainCE=13.8018  | t=1h 26m 40.85s\n",
            "[RS]    ep35 τ=0.0500  κ=+2.30e+04  trainCE=5.5034  valCE=5.4370  valAcc=0.5828  steps=10  | t=1h 29m 16.32s\n",
            "[RS]    ep36 τ=0.0500  κ=+5.39e+03  trainCE=7.5642  | t=1h 31m 52.27s\n",
            "[RS]    ep37 τ=0.0500  κ=+6.81e+03  trainCE=12.3397  | t=1h 34m 27.64s\n",
            "[RS]    ep38 τ=0.0500  κ=+8.48e+03  trainCE=10.2891  | t=1h 37m 03.09s\n",
            "[RS]    ep39 τ=0.0500  κ=+2.32e+04  trainCE=6.3175  | t=1h 39m 38.79s\n",
            "[RS]    ep40 τ=0.0500  κ=+1.15e+04  trainCE=12.2074  valCE=10.2461  valAcc=0.4840  steps=10  | t=1h 42m 14.26s\n",
            "[RS]    ep41 τ=0.0500  κ=+1.46e+04  trainCE=10.2729  | t=1h 44m 49.69s\n",
            "[RS]    ep42 τ=0.0500  κ=+4.72e+03  trainCE=7.7050  | t=1h 47m 25.11s\n",
            "[RS]    ep43 τ=0.0500  κ=+5.45e+03  trainCE=7.9335  | t=1h 50m 01.78s\n",
            "[RS]    ep44 τ=0.0500  κ=+5.86e+03  trainCE=7.2727  | t=1h 52m 39.37s\n",
            "[RS]    ep45 τ=0.0500  κ=+2.89e+03  trainCE=6.3352  valCE=6.0221  valAcc=0.5945  steps=10  | t=1h 55m 16.09s\n",
            "[RS]    ep46 τ=0.0500  κ=+2.24e+03  trainCE=5.8696  | t=1h 57m 52.42s\n",
            "[RS]    ep47 τ=0.0500  κ=+1.89e+03  trainCE=5.4734  | t=2h 00m 28.56s\n",
            "[RS]    ep48 τ=0.0500  κ=+1.66e+03  trainCE=4.9860  | t=2h 03m 04.09s\n",
            "[RS]    ep49 τ=0.0500  κ=+1.47e+03  trainCE=4.6361  | t=2h 05m 39.62s\n",
            "[RS]    ep50 τ=0.0500  κ=+1.30e+03  trainCE=4.2566  valCE=4.3829  valAcc=0.5790  steps=10  | t=2h 08m 15.10s\n",
            "[RS]    ep51 τ=0.0500  κ=+1.16e+03  trainCE=3.9300  | t=2h 10m 50.35s\n",
            "[RS]    ep52 τ=0.0500  κ=+1.04e+03  trainCE=3.6274  | t=2h 13m 25.82s\n",
            "[RS]    ep53 τ=0.0500  κ=+9.53e+02  trainCE=3.3679  | t=2h 16m 01.15s\n",
            "[RS]    ep54 τ=0.0500  κ=+8.90e+02  trainCE=3.1304  | t=2h 18m 36.35s\n",
            "[RS]    ep55 τ=0.0500  κ=+8.80e+02  trainCE=2.9998  valCE=3.1575  valAcc=0.5716  steps=10  | t=2h 21m 11.81s\n",
            "[RS]    ep56 τ=0.0500  κ=+8.17e+02  trainCE=2.8297  | t=2h 23m 47.51s\n",
            "[RS]    ep57 τ=0.0500  κ=+1.26e+03  trainCE=2.8791  | t=2h 26m 23.05s\n",
            "[RS]    ep58 τ=0.0500  κ=+8.52e+02  trainCE=3.0091  | t=2h 28m 58.52s\n",
            "[RS]    ep59 τ=0.0500  κ=+4.16e+04  trainCE=20.2342  | t=2h 31m 33.87s\n",
            "[RS]    ep60 τ=0.0500  κ=+4.71e+04  trainCE=8.9643  valCE=3.4054  valAcc=0.6983  steps=10  | t=2h 34m 09.69s\n",
            "[RS]    ep61 τ=0.0500  κ=+1.42e+04  trainCE=14.1979  | t=2h 36m 45.40s\n",
            "[RS]    ep62 τ=0.0500  κ=+4.67e+04  trainCE=9.0776  | t=2h 39m 20.72s\n",
            "[RS]    ep63 τ=0.0500  κ=+3.18e+04  trainCE=7.0885  | t=2h 41m 56.40s\n",
            "[RS]    ep64 τ=0.0500  κ=+1.20e+04  trainCE=4.7271  | t=2h 44m 31.85s\n",
            "[RS]    ep65 τ=0.0500  κ=+3.74e+03  trainCE=3.8211  valCE=4.2094  valAcc=0.6177  steps=10  | t=2h 47m 07.08s\n",
            "[RS]    ep66 τ=0.0500  κ=+2.86e+03  trainCE=3.2535  | t=2h 49m 42.52s\n",
            "[RS]    ep67 τ=0.0500  κ=+2.26e+03  trainCE=3.3261  | t=2h 52m 18.00s\n",
            "[RS]    ep68 τ=0.0500  κ=+1.70e+03  trainCE=2.6790  | t=2h 54m 53.40s\n",
            "[RS]    ep69 τ=0.0500  κ=+1.69e+03  trainCE=3.1936  | t=2h 57m 28.62s\n",
            "[RS]    ep70 τ=0.0500  κ=+1.02e+04  trainCE=7.3432  valCE=6.3277  valAcc=0.4907  steps=10  | t=3h 00m 04.55s\n",
            "[RS]    ep71 τ=0.0500  κ=+2.80e+03  trainCE=7.1937  | t=3h 02m 40.02s\n",
            "[RS]    ep72 τ=0.0500  κ=+7.94e+03  trainCE=6.8118  | t=3h 05m 15.67s\n",
            "[RS]    ep73 τ=0.0500  κ=+3.52e+03  trainCE=5.7272  | t=3h 07m 51.26s\n",
            "[RS]    ep74 τ=0.0500  κ=+2.54e+03  trainCE=5.1503  | t=3h 10m 27.11s\n",
            "[RS]    ep75 τ=0.0500  κ=+1.66e+03  trainCE=4.7134  valCE=5.9365  valAcc=0.5644  steps=10  | t=3h 13m 02.83s\n",
            "[RS]    ep76 τ=0.0500  κ=+1.43e+03  trainCE=4.3998  | t=3h 15m 38.32s\n",
            "[RS]    ep77 τ=0.0500  κ=+1.30e+03  trainCE=4.0982  | t=3h 18m 13.82s\n",
            "[RS]    ep78 τ=0.0500  κ=+1.15e+03  trainCE=3.8274  | t=3h 20m 49.14s\n",
            "[RS]    ep79 τ=0.0500  κ=+9.61e+02  trainCE=3.6361  | t=3h 23m 24.51s\n",
            "[RS]    ep80 τ=0.0500  κ=+8.39e+02  trainCE=3.5714  valCE=4.6324  valAcc=0.5485  steps=10  | t=3h 25m 59.81s\n",
            "[RS]    ep81 τ=0.0500  κ=+1.13e+03  trainCE=3.6346  | t=3h 28m 34.99s\n",
            "[RS]    ep82 τ=0.0500  κ=+3.30e+03  trainCE=3.7277  | t=3h 31m 11.09s\n",
            "[RS]    ep83 τ=0.0500  κ=+2.64e+03  trainCE=3.1661  | t=3h 33m 47.60s\n",
            "[RS]    ep84 τ=0.0500  κ=+7.04e+02  trainCE=3.1630  | t=3h 36m 23.33s\n",
            "[RS]    ep85 τ=0.0500  κ=+4.07e+03  trainCE=3.6827  valCE=3.9839  valAcc=0.5629  steps=10  | t=3h 38m 58.84s\n",
            "[RS]    ep86 τ=0.0500  κ=+1.24e+03  trainCE=5.4430  | t=3h 41m 34.48s\n",
            "[RS]    ep87 τ=0.0500  κ=+1.89e+04  trainCE=4.8658  | t=3h 44m 09.97s\n",
            "[RS]    ep88 τ=0.0500  κ=+2.72e+03  trainCE=5.4104  | t=3h 46m 45.56s\n",
            "[RS]    ep89 τ=0.0500  κ=+2.35e+04  trainCE=9.0530  | t=3h 49m 21.32s\n",
            "[RS]    ep90 τ=0.0500  κ=+5.61e+03  trainCE=6.5405  valCE=7.7718  valAcc=0.5570  steps=10  | t=3h 51m 57.15s\n",
            "[RS]    ep91 τ=0.0500  κ=+3.13e+03  trainCE=7.0538  | t=3h 54m 32.84s\n",
            "[RS]    ep92 τ=0.0500  κ=+4.62e+03  trainCE=8.3013  | t=3h 57m 08.41s\n",
            "[RS]    ep93 τ=0.0500  κ=+9.72e+03  trainCE=8.6058  | t=3h 59m 44.06s\n",
            "[RS]    ep94 τ=0.0500  κ=+5.84e+03  trainCE=7.7925  | t=4h 02m 19.93s\n",
            "[RS]    ep95 τ=0.0500  κ=+8.76e+03  trainCE=8.6284  valCE=9.9061  valAcc=0.5338  steps=10  | t=4h 04m 55.51s\n",
            "[RS]    ep96 τ=0.0500  κ=+2.39e+03  trainCE=8.0718  | t=4h 07m 31.01s\n",
            "[RS]    ep97 τ=0.0500  κ=+1.05e+03  trainCE=7.8136  | t=4h 10m 06.53s\n",
            "[RS]    ep98 τ=0.0500  κ=+1.55e+03  trainCE=7.2081  | t=4h 12m 41.75s\n",
            "[RS]    ep99 τ=0.0500  κ=+3.59e+03  trainCE=7.0146  | t=4h 15m 16.96s\n",
            "[RS]    ep100 τ=0.0500  κ=+5.26e+03  trainCE=7.6263  valCE=10.7885  valAcc=0.5063  steps=10  | t=4h 17m 52.61s\n",
            "[RS]    ep101 τ=0.0500  κ=+1.13e+04  trainCE=7.3234  | t=4h 20m 28.37s\n",
            "[RS]    ep102 τ=0.0500  κ=+1.45e+04  trainCE=6.0687  | t=4h 23m 03.84s\n",
            "[RS]    ep103 τ=0.0500  κ=+1.05e+04  trainCE=5.8748  | t=4h 25m 39.27s\n",
            "[RS]    ep104 τ=0.0500  κ=+4.09e+03  trainCE=6.4637  | t=4h 28m 14.95s\n",
            "[RS]    ep105 τ=0.0500  κ=+1.67e+03  trainCE=6.8527  valCE=7.7830  valAcc=0.5396  steps=10  | t=4h 30m 50.20s\n",
            "[RS]    ep106 τ=0.0500  κ=+1.50e+03  trainCE=5.9293  | t=4h 33m 25.75s\n",
            "[RS]    ep107 τ=0.0500  κ=+5.96e+02  trainCE=5.9987  | t=4h 36m 01.54s\n",
            "[RS]    ep108 τ=0.0500  κ=+9.61e+02  trainCE=6.7449  | t=4h 38m 37.56s\n",
            "[RS]    ep109 τ=0.0500  κ=+1.54e+03  trainCE=7.7642  | t=4h 41m 13.58s\n",
            "[RS]    ep110 τ=0.0500  κ=+1.87e+03  trainCE=8.5015  valCE=9.4000  valAcc=0.5231  steps=10  | t=4h 43m 49.53s\n",
            "[RS]    ep111 τ=0.0500  κ=+7.81e+02  trainCE=8.4256  | t=4h 46m 25.82s\n",
            "[RS]    ep112 τ=0.0500  κ=+1.78e+03  trainCE=8.3320  | t=4h 49m 01.53s\n",
            "[RS]    ep113 τ=0.0500  κ=+1.11e+04  trainCE=7.3689  | t=4h 51m 37.14s\n",
            "[RS]    ep114 τ=0.0500  κ=+6.65e+02  trainCE=7.5453  | t=4h 54m 12.74s\n",
            "[RS]    ep115 τ=0.0500  κ=+5.98e+02  trainCE=8.0823  valCE=10.1620  valAcc=0.5275  steps=10  | t=4h 56m 48.65s\n",
            "[RS]    ep116 τ=0.0500  κ=+1.03e+03  trainCE=6.8729  | t=4h 59m 24.95s\n",
            "[RS]    ep117 τ=0.0500  κ=+1.17e+03  trainCE=6.3382  | t=5h 02m 01.21s\n",
            "[RS]    ep118 τ=0.0500  κ=+5.57e+02  trainCE=6.1476  | t=5h 04m 37.54s\n",
            "[RS]    ep119 τ=0.0500  κ=+3.78e+02  trainCE=5.9244  | t=5h 07m 13.29s\n",
            "[RS]    ep120 τ=0.0500  κ=+4.44e+02  trainCE=5.7714  valCE=8.3652  valAcc=0.5447  steps=10  | t=5h 09m 49.04s\n",
            "[RS]    ep121 τ=0.0500  κ=+4.27e+02  trainCE=5.6172  | t=5h 12m 24.56s\n",
            "[RS]    ep122 τ=0.0500  κ=+3.87e+02  trainCE=5.4431  | t=5h 15m 00.00s\n",
            "[RS]    ep123 τ=0.0500  κ=+3.77e+02  trainCE=5.3074  | t=5h 17m 35.61s\n",
            "[RS]    ep124 τ=0.0500  κ=+3.85e+02  trainCE=5.1752  | t=5h 20m 11.29s\n",
            "[RS]    ep125 τ=0.0500  κ=+4.13e+02  trainCE=5.0625  valCE=7.3594  valAcc=0.5448  steps=10  | t=5h 22m 46.59s\n",
            "[RS]    ep126 τ=0.0500  κ=+4.39e+02  trainCE=4.9575  | t=5h 25m 22.11s\n",
            "[RS]    ep127 τ=0.0500  κ=+4.26e+02  trainCE=4.8374  | t=5h 27m 57.79s\n",
            "[RS]    ep128 τ=0.0500  κ=+3.21e+02  trainCE=4.6887  | t=5h 30m 33.65s\n",
            "[RS]    ep129 τ=0.0500  κ=+2.03e+02  trainCE=4.5395  | t=5h 33m 09.74s\n",
            "[RS]    ep130 τ=0.0500  κ=+1.51e+02  trainCE=4.4193  valCE=6.4323  valAcc=0.5504  steps=10  | t=5h 35m 45.60s\n",
            "[RS]    ep131 τ=0.0500  κ=+1.41e+02  trainCE=4.3183  | t=5h 38m 21.34s\n",
            "[RS]    ep132 τ=0.0500  κ=+1.20e+02  trainCE=4.2202  | t=5h 40m 57.02s\n",
            "[RS]    ep133 τ=0.0500  κ=+8.95e+01  trainCE=4.1248  | t=5h 43m 33.05s\n",
            "[RS]    ep134 τ=0.0500  κ=+7.59e+01  trainCE=4.0380  | t=5h 46m 08.44s\n",
            "[RS]    ep135 τ=0.0500  κ=+5.99e+01  trainCE=3.9555  valCE=5.7736  valAcc=0.5527  steps=10  | t=5h 48m 43.92s\n",
            "[RS]    ep136 τ=0.0500  κ=+4.57e+01  trainCE=3.8783  | t=5h 51m 19.37s\n",
            "[RS]    ep137 τ=0.0500  κ=+3.44e+01  trainCE=3.8060  | t=5h 53m 55.15s\n",
            "[RS]    ep138 τ=0.0500  κ=+2.29e+01  trainCE=3.7381  | t=5h 56m 30.42s\n",
            "[RS]    ep139 τ=0.0500  κ=+1.34e+01  trainCE=3.6744  | t=5h 59m 06.15s\n",
            "[RS]    ep140 τ=0.0500  κ=+4.47e+00  trainCE=3.6127  valCE=5.3141  valAcc=0.5525  steps=10  | t=6h 01m 41.79s\n",
            "[RS]    ep141 τ=0.0500  κ=+3.00e+01  trainCE=3.5732  | t=6h 04m 17.60s\n",
            "[RS]    ep142 τ=0.0500  κ=-2.10e-01  trainCE=3.2574  | t=6h 06m 53.55s\n",
            "[RS]    ep143 τ=0.0500  κ=+8.98e+01  trainCE=3.5116  | t=6h 09m 29.52s\n",
            "[RS]    ep144 τ=0.0500  κ=+4.19e+01  trainCE=3.4495  | t=6h 12m 05.32s\n",
            "[RS]    ep145 τ=0.0500  κ=-6.72e-01  trainCE=3.1746  valCE=4.9398  valAcc=0.5548  steps=10  | t=6h 14m 41.19s\n",
            "[RS]    ep146 τ=0.0500  κ=-1.56e-01  trainCE=3.1624  | t=6h 17m 16.48s\n",
            "[RS]    ep147 τ=0.0500  κ=+7.65e+02  trainCE=6.0149  | t=6h 19m 52.00s\n",
            "[RS]    ep148 τ=0.0500  κ=+2.44e+03  trainCE=10.0288  | t=6h 22m 27.76s\n",
            "[RS]    ep149 τ=0.0500  κ=+9.53e+03  trainCE=9.4186  | t=6h 25m 03.52s\n",
            "[RS]    ep150 τ=0.0500  κ=+3.84e+03  trainCE=8.5550  valCE=10.5791  valAcc=0.5632  steps=10  | t=6h 27m 38.78s\n",
            "[RS]    ep151 τ=0.0500  κ=+2.02e+03  trainCE=8.4727  | t=6h 30m 14.15s\n",
            "[RS]    ep152 τ=0.0500  κ=+5.95e+02  trainCE=8.1133  | t=6h 32m 49.57s\n",
            "[RS]    ep153 τ=0.0500  κ=+6.40e+02  trainCE=7.7298  | t=6h 35m 25.51s\n",
            "[RS]    ep154 τ=0.0500  κ=+7.49e+02  trainCE=7.4872  | t=6h 38m 02.76s\n",
            "[RS]    ep155 τ=0.0500  κ=+6.05e+02  trainCE=7.1881  valCE=10.1636  valAcc=0.5418  steps=10  | t=6h 40m 39.84s\n",
            "[RS]    ep156 τ=0.0500  κ=+4.14e+02  trainCE=6.8758  | t=6h 43m 16.62s\n",
            "[RS]    ep157 τ=0.0500  κ=+3.19e+02  trainCE=6.6453  | t=6h 45m 53.04s\n",
            "[RS]    ep158 τ=0.0500  κ=+2.48e+02  trainCE=6.4106  | t=6h 48m 29.00s\n",
            "[RS]    ep159 τ=0.0500  κ=+1.99e+02  trainCE=6.1922  | t=6h 51m 04.91s\n",
            "[RS]    ep160 τ=0.0500  κ=+1.57e+02  trainCE=5.9893  valCE=8.5458  valAcc=0.5476  steps=10  | t=6h 53m 41.39s\n",
            "[RS]    ep161 τ=0.0500  κ=+1.21e+02  trainCE=5.7927  | t=6h 56m 17.76s\n",
            "[RS]    ep162 τ=0.0500  κ=+8.82e+01  trainCE=5.6098  | t=6h 58m 53.60s\n",
            "[RS]    ep163 τ=0.0500  κ=+5.84e+01  trainCE=5.4357  | t=7h 01m 29.48s\n",
            "[RS]    ep164 τ=0.0500  κ=+3.27e+01  trainCE=5.2728  | t=7h 04m 05.54s\n",
            "[RS]    ep165 τ=0.0500  κ=+1.06e+01  trainCE=5.1195  valCE=7.3508  valAcc=0.5505  steps=10  | t=7h 06m 40.95s\n",
            "[RS]    ep166 τ=0.0500  κ=-9.32e-02  trainCE=4.6627  | t=7h 09m 16.48s\n",
            "[RS]    ep167 τ=0.0500  κ=+2.72e+02  trainCE=5.9234  | t=7h 11m 52.09s\n",
            "[RS]    ep168 τ=0.0500  κ=+1.02e+04  trainCE=11.6326  | t=7h 14m 27.49s\n",
            "[RS]    ep169 τ=0.0500  κ=+1.32e+04  trainCE=9.0962  | t=7h 17m 02.99s\n",
            "[RS]    ep170 τ=0.0500  κ=+3.89e+03  trainCE=8.6371  valCE=12.6067  valAcc=0.5173  steps=10  | t=7h 19m 38.13s\n",
            "[RS]    ep171 τ=0.0500  κ=+6.53e+03  trainCE=10.3121  | t=7h 22m 13.94s\n",
            "[RS]    ep172 τ=0.0500  κ=+1.42e+04  trainCE=9.5086  | t=7h 24m 49.67s\n",
            "[RS]    ep173 τ=0.0500  κ=+2.72e+03  trainCE=7.7966  | t=7h 27m 25.40s\n",
            "[RS]    ep174 τ=0.0500  κ=+2.46e+02  trainCE=7.5193  | t=7h 30m 01.31s\n",
            "[RS]    ep175 τ=0.0500  κ=+2.28e+02  trainCE=7.2510  valCE=10.0548  valAcc=0.5539  steps=10  | t=7h 32m 36.98s\n",
            "[RS]    ep176 τ=0.0500  κ=+3.67e+02  trainCE=7.0152  | t=7h 35m 12.71s\n",
            "[RS]    ep177 τ=0.0500  κ=+2.73e+02  trainCE=6.7891  | t=7h 37m 48.59s\n",
            "[RS]    ep178 τ=0.0500  κ=+1.72e+02  trainCE=6.5613  | t=7h 40m 25.00s\n",
            "[RS]    ep179 τ=0.0500  κ=+1.05e+02  trainCE=6.3692  | t=7h 43m 00.79s\n",
            "[RS]    ep180 τ=0.0500  κ=+5.32e+01  trainCE=6.1889  valCE=8.8448  valAcc=0.5525  steps=10  | t=7h 45m 36.79s\n",
            "[RS]    ep181 τ=0.0500  κ=+1.32e+01  trainCE=6.0130  | t=7h 48m 12.41s\n",
            "[RS]    ep182 τ=0.0500  κ=-3.65e-01  trainCE=5.6758  | t=7h 50m 48.08s\n",
            "[RS]    ep183 τ=0.0500  κ=+9.56e+02  trainCE=7.2479  | t=7h 53m 23.38s\n",
            "[RS]    ep184 τ=0.0500  κ=+7.77e+03  trainCE=7.3938  | t=7h 55m 59.07s\n",
            "[RS]    ep185 τ=0.0500  κ=+2.71e+03  trainCE=6.5122  valCE=8.9562  valAcc=0.5483  steps=10  | t=7h 58m 34.77s\n",
            "[RS]    ep186 τ=0.0500  κ=+1.37e+02  trainCE=6.0882  | t=8h 01m 10.18s\n",
            "[RS]    ep187 τ=0.0500  κ=+4.30e+01  trainCE=5.9052  | t=8h 03m 45.68s\n",
            "[RS]    ep188 τ=0.0500  κ=-2.35e-02  trainCE=6.1365  | t=8h 06m 21.59s\n",
            "[RS]    ep189 τ=0.0500  κ=+1.26e+03  trainCE=7.7800  | t=8h 08m 56.96s\n",
            "[RS]    ep190 τ=0.0500  κ=+2.00e+04  trainCE=11.4522  valCE=11.2436  valAcc=0.5550  steps=10  | t=8h 11m 32.32s\n",
            "[RS]    ep191 τ=0.0500  κ=+4.73e+03  trainCE=9.9176  | t=8h 14m 07.91s\n",
            "[RS]    ep192 τ=0.0500  κ=+5.18e+03  trainCE=11.5006  | t=8h 16m 43.44s\n",
            "[RS]    ep193 τ=0.0500  κ=+1.02e+04  trainCE=11.0307  | t=8h 19m 19.13s\n",
            "[RS]    ep194 τ=0.0500  κ=+7.47e+03  trainCE=11.0807  | t=8h 21m 55.01s\n",
            "[RS]    ep195 τ=0.0500  κ=+4.79e+02  trainCE=9.7320  valCE=12.9259  valAcc=0.5405  steps=10  | t=8h 24m 30.50s\n",
            "[RS]    ep196 τ=0.0500  κ=+1.61e+02  trainCE=8.7369  | t=8h 27m 06.75s\n",
            "[RS]    ep197 τ=0.0500  κ=+2.07e+02  trainCE=8.7206  | t=8h 29m 42.80s\n",
            "[RS]    ep198 τ=0.0500  κ=+2.34e+02  trainCE=8.3792  | t=8h 32m 18.91s\n",
            "[RS]    ep199 τ=0.0500  κ=+4.09e+01  trainCE=8.0889  | t=8h 34m 54.98s\n",
            "[RS]    ep200 τ=0.0500  κ=+9.61e+00  trainCE=7.9405  valCE=11.4319  valAcc=0.5446  steps=10  | t=8h 37m 30.48s\n",
            "[RS]    ep201 τ=0.0500  κ=+8.48e+00  trainCE=7.7240  | t=8h 40m 06.04s\n",
            "[RS]    ep202 τ=0.0500  κ=-5.83e-01  trainCE=7.2109  | t=8h 42m 41.70s\n",
            "[RS]    ep203 τ=0.0500  κ=+1.05e+03  trainCE=8.5617  | t=8h 45m 17.27s\n",
            "[RS]    ep204 τ=0.0500  κ=+2.49e+03  trainCE=8.4437  | t=8h 47m 52.73s\n",
            "[RS]    ep205 τ=0.0500  κ=+2.40e+02  trainCE=7.6790  valCE=10.6035  valAcc=0.5452  steps=10  | t=8h 50m 28.01s\n",
            "[RS]    ep206 τ=0.0500  κ=-1.53e+00  trainCE=7.2888  | t=8h 53m 03.39s\n",
            "[RS]    ep207 τ=0.0500  κ=+4.63e+02  trainCE=8.1666  | t=8h 55m 38.91s\n",
            "[RS]    ep208 τ=0.0500  κ=+3.39e+03  trainCE=8.9143  | t=8h 58m 14.25s\n",
            "[RS]    ep209 τ=0.0500  κ=+7.15e+03  trainCE=9.7394  | t=9h 00m 49.62s\n",
            "[RS]    ep210 τ=0.0500  κ=+1.42e+03  trainCE=9.2380  valCE=13.1565  valAcc=0.5124  steps=10  | t=9h 03m 24.87s\n",
            "[RS]    ep211 τ=0.0500  κ=+4.99e+03  trainCE=10.2444  | t=9h 06m 00.52s\n",
            "[RS]    ep212 τ=0.0500  κ=+3.52e+03  trainCE=8.9073  | t=9h 08m 36.79s\n",
            "[RS]    ep213 τ=0.0500  κ=+5.41e+02  trainCE=8.8728  | t=9h 11m 13.03s\n",
            "[RS]    ep214 τ=0.0500  κ=+6.58e+01  trainCE=8.5957  | t=9h 13m 48.64s\n",
            "[RS]    ep215 τ=0.0500  κ=+4.93e+02  trainCE=7.9309  valCE=10.8385  valAcc=0.5553  steps=10  | t=9h 16m 24.37s\n",
            "[RS]    ep216 τ=0.0500  κ=+1.88e+02  trainCE=7.7245  | t=9h 18m 59.94s\n",
            "[RS]    ep217 τ=0.0500  κ=-1.38e+00  trainCE=7.1510  | t=9h 21m 35.99s\n",
            "[RS]    ep218 τ=0.0500  κ=+8.90e+02  trainCE=8.4140  | t=9h 24m 12.60s\n",
            "[RS]    ep219 τ=0.0500  κ=+3.95e+03  trainCE=10.0781  | t=9h 26m 48.81s\n",
            "[RS]    ep220 τ=0.0500  κ=+3.31e+03  trainCE=9.9560  valCE=13.2840  valAcc=0.5165  steps=10  | t=9h 29m 25.47s\n",
            "[RS]    ep221 τ=0.0500  κ=+4.31e+03  trainCE=10.4718  | t=9h 32m 01.78s\n",
            "[RS]    ep222 τ=0.0500  κ=+1.70e+04  trainCE=12.3994  | t=9h 34m 37.90s\n",
            "[RS]    ep223 τ=0.0500  κ=+2.77e+04  trainCE=10.3941  | t=9h 37m 14.24s\n",
            "[RS]    ep224 τ=0.0500  κ=+1.40e+03  trainCE=11.0563  | t=9h 39m 50.29s\n",
            "[RS]    ep225 τ=0.0500  κ=+1.02e+03  trainCE=11.0192  valCE=12.9167  valAcc=0.5536  steps=10  | t=9h 42m 26.59s\n",
            "[RS]    ep226 τ=0.0500  κ=+2.11e+03  trainCE=9.2187  | t=9h 45m 02.82s\n",
            "[RS]    ep227 τ=0.0500  κ=+1.84e+02  trainCE=8.6520  | t=9h 47m 39.22s\n",
            "[RS]    ep228 τ=0.0500  κ=+1.75e+02  trainCE=8.3108  | t=9h 50m 15.81s\n",
            "[RS]    ep229 τ=0.0500  κ=+1.17e+02  trainCE=8.0831  | t=9h 52m 52.21s\n",
            "[RS]    ep230 τ=0.0500  κ=+8.62e+01  trainCE=7.8679  valCE=11.6432  valAcc=0.5498  steps=10  | t=9h 55m 28.84s\n",
            "[RS]    ep231 τ=0.0500  κ=+6.86e+01  trainCE=7.7077  | t=9h 58m 04.74s\n",
            "[RS]    ep232 τ=0.0500  κ=+3.24e+01  trainCE=7.5090  | t=10h 00m 40.44s\n",
            "[RS]    ep233 τ=0.0500  κ=+1.38e+01  trainCE=7.3363  | t=10h 03m 16.11s\n",
            "[RS]    ep234 τ=0.0500  κ=-3.75e-02  trainCE=7.0506  | t=10h 05m 51.98s\n",
            "[RS]    ep235 τ=0.0500  κ=+7.97e+02  trainCE=7.9364  valCE=11.7588  valAcc=0.5277  steps=10  | t=10h 08m 27.85s\n",
            "[RS]    ep236 τ=0.0500  κ=+1.60e+02  trainCE=7.9325  | t=10h 11m 03.84s\n",
            "[RS]    ep237 τ=0.0500  κ=+1.97e+02  trainCE=7.8841  | t=10h 13m 39.40s\n",
            "[RS]    ep238 τ=0.0500  κ=+1.70e+03  trainCE=9.5855  | t=10h 16m 14.95s\n",
            "[RS]    ep239 τ=0.0500  κ=+2.86e+03  trainCE=10.3371  | t=10h 18m 50.55s\n",
            "[RS]    ep240 τ=0.0500  κ=+3.49e+03  trainCE=11.4862  valCE=13.7426  valAcc=0.5600  steps=10  | t=10h 21m 26.11s\n",
            "[RS]    ep241 τ=0.0500  κ=+6.87e+03  trainCE=13.9486  | t=10h 24m 01.94s\n",
            "[RS]    ep242 τ=0.0500  κ=+1.93e+04  trainCE=13.3825  | t=10h 26m 37.73s\n",
            "[RS]    ep243 τ=0.0500  κ=+4.18e+03  trainCE=13.8329  | t=10h 29m 13.31s\n",
            "[RS]    ep244 τ=0.0500  κ=+6.52e+03  trainCE=13.5912  | t=10h 31m 49.90s\n",
            "[RS]    ep245 τ=0.0500  κ=+1.59e+03  trainCE=12.7136  valCE=17.1236  valAcc=0.5290  steps=10  | t=10h 34m 26.05s\n",
            "[RS]    ep246 τ=0.0500  κ=+3.16e+02  trainCE=11.8252  | t=10h 37m 02.11s\n",
            "[RS]    ep247 τ=0.0500  κ=+2.88e+02  trainCE=10.8509  | t=10h 39m 38.28s\n",
            "[RS]    ep248 τ=0.0500  κ=+2.49e+02  trainCE=10.6167  | t=10h 42m 14.65s\n",
            "[RS]    ep249 τ=0.0500  κ=+9.91e+01  trainCE=10.3656  | t=10h 44m 50.65s\n",
            "[RS]    ep250 τ=0.0500  κ=+2.85e+01  trainCE=9.9718  valCE=14.6402  valAcc=0.5456  steps=10  | t=10h 47m 27.01s\n",
            "[RS] total optimizer update batches taken: 2470\n",
            "\n",
            "▶ SGD baseline …\n"
          ]
        },
        {
          "output_type": "stream",
          "name": "stderr",
          "text": []
        },
        {
          "output_type": "stream",
          "name": "stdout",
          "text": [
            "[SGD]  ep01 trainCE=715.1084  | t=2m 00.14s\n"
          ]
        },
        {
          "output_type": "stream",
          "name": "stderr",
          "text": []
        },
        {
          "output_type": "stream",
          "name": "stdout",
          "text": [
            "[SGD]  ep02 trainCE=867.9525  | t=3m 59.89s\n"
          ]
        },
        {
          "output_type": "stream",
          "name": "stderr",
          "text": []
        },
        {
          "output_type": "stream",
          "name": "stdout",
          "text": [
            "[SGD]  ep03 trainCE=737.1642  | t=5m 59.60s\n"
          ]
        },
        {
          "output_type": "stream",
          "name": "stderr",
          "text": []
        },
        {
          "output_type": "stream",
          "name": "stdout",
          "text": [
            "[SGD]  ep04 trainCE=686.6886  | t=7m 59.45s\n"
          ]
        },
        {
          "output_type": "stream",
          "name": "stderr",
          "text": []
        },
        {
          "output_type": "stream",
          "name": "stdout",
          "text": [
            "[SGD]  ep05 trainCE=770.9322  valCE=175.6281  valAcc=0.4891  | t=9m 59.01s\n"
          ]
        },
        {
          "output_type": "stream",
          "name": "stderr",
          "text": []
        },
        {
          "output_type": "stream",
          "name": "stdout",
          "text": [
            "[SGD]  ep06 trainCE=733.9909  | t=11m 59.27s\n"
          ]
        },
        {
          "output_type": "stream",
          "name": "stderr",
          "text": []
        },
        {
          "output_type": "stream",
          "name": "stdout",
          "text": [
            "[SGD]  ep07 trainCE=731.3904  | t=14m 00.21s\n"
          ]
        },
        {
          "output_type": "stream",
          "name": "stderr",
          "text": []
        },
        {
          "output_type": "stream",
          "name": "stdout",
          "text": [
            "[SGD]  ep08 trainCE=719.9030  | t=16m 00.06s\n"
          ]
        },
        {
          "output_type": "stream",
          "name": "stderr",
          "text": []
        },
        {
          "output_type": "stream",
          "name": "stdout",
          "text": [
            "[SGD]  ep09 trainCE=694.1403  | t=17m 59.81s\n"
          ]
        },
        {
          "output_type": "stream",
          "name": "stderr",
          "text": []
        },
        {
          "output_type": "stream",
          "name": "stdout",
          "text": [
            "[SGD]  ep10 trainCE=705.9518  valCE=252.8738  valAcc=0.4976  | t=19m 59.62s\n"
          ]
        },
        {
          "output_type": "stream",
          "name": "stderr",
          "text": []
        },
        {
          "output_type": "stream",
          "name": "stdout",
          "text": [
            "[SGD]  ep11 trainCE=718.9438  | t=21m 59.31s\n"
          ]
        },
        {
          "output_type": "stream",
          "name": "stderr",
          "text": []
        },
        {
          "output_type": "stream",
          "name": "stdout",
          "text": [
            "[SGD]  ep12 trainCE=697.2717  | t=23m 58.97s\n"
          ]
        },
        {
          "output_type": "stream",
          "name": "stderr",
          "text": []
        },
        {
          "output_type": "stream",
          "name": "stdout",
          "text": [
            "[SGD]  ep13 trainCE=711.4867  | t=25m 58.57s\n"
          ]
        },
        {
          "output_type": "stream",
          "name": "stderr",
          "text": []
        },
        {
          "output_type": "stream",
          "name": "stdout",
          "text": [
            "[SGD]  ep14 trainCE=679.5138  | t=27m 58.24s\n"
          ]
        },
        {
          "output_type": "stream",
          "name": "stderr",
          "text": []
        },
        {
          "output_type": "stream",
          "name": "stdout",
          "text": [
            "[SGD]  ep15 trainCE=697.6667  valCE=331.4105  valAcc=0.4978  | t=29m 57.95s\n"
          ]
        },
        {
          "output_type": "stream",
          "name": "stderr",
          "text": []
        },
        {
          "output_type": "stream",
          "name": "stdout",
          "text": [
            "[SGD]  ep16 trainCE=717.9507  | t=31m 57.58s\n"
          ]
        },
        {
          "output_type": "stream",
          "name": "stderr",
          "text": []
        },
        {
          "output_type": "stream",
          "name": "stdout",
          "text": [
            "[SGD]  ep17 trainCE=696.3596  | t=33m 57.35s\n"
          ]
        },
        {
          "output_type": "stream",
          "name": "stderr",
          "text": []
        },
        {
          "output_type": "stream",
          "name": "stdout",
          "text": [
            "[SGD]  ep18 trainCE=713.5904  | t=35m 57.21s\n"
          ]
        },
        {
          "output_type": "stream",
          "name": "stderr",
          "text": []
        },
        {
          "output_type": "stream",
          "name": "stdout",
          "text": [
            "[SGD]  ep19 trainCE=699.3334  | t=37m 56.94s\n"
          ]
        },
        {
          "output_type": "stream",
          "name": "stderr",
          "text": []
        },
        {
          "output_type": "stream",
          "name": "stdout",
          "text": [
            "[SGD]  ep20 trainCE=700.8040  valCE=277.9597  valAcc=0.5118  | t=39m 56.61s\n"
          ]
        },
        {
          "output_type": "stream",
          "name": "stderr",
          "text": []
        },
        {
          "output_type": "stream",
          "name": "stdout",
          "text": [
            "[SGD]  ep21 trainCE=685.6387  | t=41m 56.17s\n"
          ]
        },
        {
          "output_type": "stream",
          "name": "stderr",
          "text": []
        },
        {
          "output_type": "stream",
          "name": "stdout",
          "text": [
            "[SGD]  ep22 trainCE=696.5402  | t=43m 55.82s\n"
          ]
        },
        {
          "output_type": "stream",
          "name": "stderr",
          "text": []
        },
        {
          "output_type": "stream",
          "name": "stdout",
          "text": [
            "[SGD]  ep23 trainCE=702.2579  | t=45m 55.77s\n"
          ]
        },
        {
          "output_type": "stream",
          "name": "stderr",
          "text": []
        },
        {
          "output_type": "stream",
          "name": "stdout",
          "text": [
            "[SGD]  ep24 trainCE=678.6306  | t=47m 55.68s\n"
          ]
        },
        {
          "output_type": "stream",
          "name": "stderr",
          "text": []
        },
        {
          "output_type": "stream",
          "name": "stdout",
          "text": [
            "[SGD]  ep25 trainCE=699.4133  valCE=365.9829  valAcc=0.5013  | t=49m 55.49s\n"
          ]
        },
        {
          "output_type": "stream",
          "name": "stderr",
          "text": []
        },
        {
          "output_type": "stream",
          "name": "stdout",
          "text": [
            "[SGD]  ep26 trainCE=678.9016  | t=51m 55.00s\n"
          ]
        },
        {
          "output_type": "stream",
          "name": "stderr",
          "text": []
        },
        {
          "output_type": "stream",
          "name": "stdout",
          "text": [
            "[SGD]  ep27 trainCE=699.0708  | t=53m 54.50s\n"
          ]
        },
        {
          "output_type": "stream",
          "name": "stderr",
          "text": []
        },
        {
          "output_type": "stream",
          "name": "stdout",
          "text": [
            "[SGD]  ep28 trainCE=696.4858  | t=55m 54.20s\n"
          ]
        },
        {
          "output_type": "stream",
          "name": "stderr",
          "text": []
        },
        {
          "output_type": "stream",
          "name": "stdout",
          "text": [
            "[SGD]  ep29 trainCE=706.2626  | t=57m 53.76s\n"
          ]
        },
        {
          "output_type": "stream",
          "name": "stderr",
          "text": []
        },
        {
          "output_type": "stream",
          "name": "stdout",
          "text": [
            "[SGD]  ep30 trainCE=689.2054  valCE=389.8478  valAcc=0.5030  | t=59m 53.32s\n"
          ]
        },
        {
          "output_type": "stream",
          "name": "stderr",
          "text": []
        },
        {
          "output_type": "stream",
          "name": "stdout",
          "text": [
            "[SGD]  ep31 trainCE=677.8263  | t=1h 01m 52.95s\n"
          ]
        },
        {
          "output_type": "stream",
          "name": "stderr",
          "text": []
        },
        {
          "output_type": "stream",
          "name": "stdout",
          "text": [
            "[SGD]  ep32 trainCE=691.0657  | t=1h 03m 52.58s\n"
          ]
        },
        {
          "output_type": "stream",
          "name": "stderr",
          "text": []
        },
        {
          "output_type": "stream",
          "name": "stdout",
          "text": [
            "[SGD]  ep33 trainCE=685.2100  | t=1h 05m 52.21s\n"
          ]
        },
        {
          "output_type": "stream",
          "name": "stderr",
          "text": []
        },
        {
          "output_type": "stream",
          "name": "stdout",
          "text": [
            "[SGD]  ep34 trainCE=679.3910  | t=1h 07m 51.78s\n"
          ]
        },
        {
          "output_type": "stream",
          "name": "stderr",
          "text": []
        },
        {
          "output_type": "stream",
          "name": "stdout",
          "text": [
            "[SGD]  ep35 trainCE=660.4334  valCE=438.7732  valAcc=0.5013  | t=1h 09m 51.41s\n"
          ]
        },
        {
          "output_type": "stream",
          "name": "stderr",
          "text": []
        },
        {
          "output_type": "stream",
          "name": "stdout",
          "text": [
            "[SGD]  ep36 trainCE=686.5118  | t=1h 11m 50.98s\n"
          ]
        },
        {
          "output_type": "stream",
          "name": "stderr",
          "text": []
        },
        {
          "output_type": "stream",
          "name": "stdout",
          "text": [
            "[SGD]  ep37 trainCE=667.9799  | t=1h 13m 50.72s\n"
          ]
        },
        {
          "output_type": "stream",
          "name": "stderr",
          "text": []
        },
        {
          "output_type": "stream",
          "name": "stdout",
          "text": [
            "[SGD]  ep38 trainCE=673.4923  | t=1h 15m 50.38s\n"
          ]
        },
        {
          "output_type": "stream",
          "name": "stderr",
          "text": []
        },
        {
          "output_type": "stream",
          "name": "stdout",
          "text": [
            "[SGD]  ep39 trainCE=682.9823  | t=1h 17m 50.01s\n"
          ]
        },
        {
          "output_type": "stream",
          "name": "stderr",
          "text": []
        },
        {
          "output_type": "stream",
          "name": "stdout",
          "text": [
            "[SGD]  ep40 trainCE=653.3672  valCE=425.5535  valAcc=0.5032  | t=1h 19m 49.80s\n"
          ]
        },
        {
          "output_type": "stream",
          "name": "stderr",
          "text": []
        },
        {
          "output_type": "stream",
          "name": "stdout",
          "text": [
            "[SGD]  ep41 trainCE=671.4385  | t=1h 21m 49.86s\n"
          ]
        },
        {
          "output_type": "stream",
          "name": "stderr",
          "text": []
        },
        {
          "output_type": "stream",
          "name": "stdout",
          "text": [
            "[SGD]  ep42 trainCE=653.2494  | t=1h 23m 49.54s\n"
          ]
        },
        {
          "output_type": "stream",
          "name": "stderr",
          "text": []
        },
        {
          "output_type": "stream",
          "name": "stdout",
          "text": [
            "[SGD]  ep43 trainCE=705.5233  | t=1h 25m 49.22s\n"
          ]
        },
        {
          "output_type": "stream",
          "name": "stderr",
          "text": []
        },
        {
          "output_type": "stream",
          "name": "stdout",
          "text": [
            "[SGD]  ep44 trainCE=664.2495  | t=1h 27m 49.09s\n"
          ]
        },
        {
          "output_type": "stream",
          "name": "stderr",
          "text": []
        },
        {
          "output_type": "stream",
          "name": "stdout",
          "text": [
            "[SGD]  ep45 trainCE=662.6932  valCE=393.2503  valAcc=0.5123  | t=1h 29m 48.77s\n"
          ]
        },
        {
          "output_type": "stream",
          "name": "stderr",
          "text": []
        },
        {
          "output_type": "stream",
          "name": "stdout",
          "text": [
            "[SGD]  ep46 trainCE=653.4903  | t=1h 31m 48.27s\n"
          ]
        },
        {
          "output_type": "stream",
          "name": "stderr",
          "text": []
        },
        {
          "output_type": "stream",
          "name": "stdout",
          "text": [
            "[SGD]  ep47 trainCE=653.7388  | t=1h 33m 47.74s\n"
          ]
        },
        {
          "output_type": "stream",
          "name": "stderr",
          "text": []
        },
        {
          "output_type": "stream",
          "name": "stdout",
          "text": [
            "[SGD]  ep48 trainCE=675.1968  | t=1h 35m 47.15s\n"
          ]
        },
        {
          "output_type": "stream",
          "name": "stderr",
          "text": []
        },
        {
          "output_type": "stream",
          "name": "stdout",
          "text": [
            "[SGD]  ep49 trainCE=671.4355  | t=1h 37m 46.93s\n"
          ]
        },
        {
          "output_type": "stream",
          "name": "stderr",
          "text": []
        },
        {
          "output_type": "stream",
          "name": "stdout",
          "text": [
            "[SGD]  ep50 trainCE=662.5176  valCE=402.8210  valAcc=0.5128  | t=1h 39m 46.52s\n",
            "\n",
            "▶ SAM baseline …\n",
            "[SAM]  ep01 trainCE=811.0471  | t=1m 59.92s\n",
            "[SAM]  ep02 trainCE=759.4123  | t=3m 59.54s\n",
            "[SAM]  ep03 trainCE=870.9888  | t=5m 59.38s\n",
            "[SAM]  ep04 trainCE=721.5966  | t=7m 59.31s\n",
            "[SAM]  ep05 trainCE=746.6424  valCE=167.2112  valAcc=0.4915  | t=9m 59.44s\n",
            "[SAM]  ep06 trainCE=719.0139  | t=11m 59.50s\n",
            "[SAM]  ep07 trainCE=735.9045  | t=13m 59.42s\n",
            "[SAM]  ep08 trainCE=736.9200  | t=15m 59.71s\n",
            "[SAM]  ep09 trainCE=680.5632  | t=17m 59.66s\n",
            "[SAM]  ep10 trainCE=714.4056  valCE=355.8657  valAcc=0.4883  | t=19m 59.62s\n",
            "[SAM]  ep11 trainCE=696.6045  | t=21m 59.47s\n",
            "[SAM]  ep12 trainCE=719.3990  | t=23m 59.44s\n",
            "[SAM]  ep13 trainCE=734.8376  | t=25m 59.58s\n",
            "[SAM]  ep14 trainCE=689.9971  | t=27m 59.55s\n",
            "[SAM]  ep15 trainCE=708.2343  valCE=288.7203  valAcc=0.4995  | t=29m 59.73s\n",
            "[SAM]  ep16 trainCE=707.2181  | t=32m 00.12s\n",
            "[SAM]  ep17 trainCE=699.1671  | t=34m 00.05s\n",
            "[SAM]  ep18 trainCE=699.3419  | t=35m 59.91s\n",
            "[SAM]  ep19 trainCE=698.9481  | t=38m 00.12s\n",
            "[SAM]  ep20 trainCE=685.6961  valCE=328.6789  valAcc=0.5009  | t=40m 00.28s\n",
            "[SAM]  ep21 trainCE=688.2432  | t=42m 00.33s\n",
            "[SAM]  ep22 trainCE=697.6526  | t=44m 00.48s\n",
            "[SAM]  ep23 trainCE=667.9431  | t=46m 00.44s\n",
            "[SAM]  ep24 trainCE=690.8563  | t=48m 00.38s\n",
            "[SAM]  ep25 trainCE=697.8514  valCE=313.3817  valAcc=0.5100  | t=50m 00.21s\n",
            "[SAM]  ep26 trainCE=682.9897  | t=52m 00.19s\n",
            "[SAM]  ep27 trainCE=683.5178  | t=54m 00.28s\n",
            "[SAM]  ep28 trainCE=658.3920  | t=56m 00.22s\n",
            "[SAM]  ep29 trainCE=707.5034  | t=58m 00.28s\n",
            "[SAM]  ep30 trainCE=678.0046  valCE=390.8997  valAcc=0.5019  | t=1h 00m 00.47s\n",
            "[SAM]  ep31 trainCE=693.6603  | t=1h 02m 00.84s\n",
            "[SAM]  ep32 trainCE=691.9204  | t=1h 04m 01.18s\n",
            "[SAM]  ep33 trainCE=699.1435  | t=1h 06m 01.55s\n",
            "[SAM]  ep34 trainCE=671.2124  | t=1h 08m 02.06s\n",
            "[SAM]  ep35 trainCE=679.1236  valCE=392.0093  valAcc=0.5052  | t=1h 10m 02.62s\n",
            "[SAM]  ep36 trainCE=682.3556  | t=1h 12m 02.68s\n",
            "[SAM]  ep37 trainCE=694.5119  | t=1h 14m 02.72s\n",
            "[SAM]  ep38 trainCE=698.4996  | t=1h 16m 02.11s\n",
            "[SAM]  ep39 trainCE=672.4904  | t=1h 18m 01.61s\n",
            "[SAM]  ep40 trainCE=666.9064  valCE=422.7578  valAcc=0.5052  | t=1h 20m 01.38s\n",
            "[SAM]  ep41 trainCE=674.5023  | t=1h 22m 01.04s\n",
            "[SAM]  ep42 trainCE=682.1865  | t=1h 24m 00.52s\n",
            "[SAM]  ep43 trainCE=676.5813  | t=1h 26m 00.16s\n",
            "[SAM]  ep44 trainCE=672.9176  | t=1h 28m 00.05s\n",
            "[SAM]  ep45 trainCE=669.8148  valCE=365.0464  valAcc=0.5232  | t=1h 29m 59.64s\n",
            "[SAM]  ep46 trainCE=667.3160  | t=1h 31m 59.38s\n",
            "[SAM]  ep47 trainCE=685.2440  | t=1h 33m 58.90s\n",
            "[SAM]  ep48 trainCE=671.4261  | t=1h 35m 58.76s\n",
            "[SAM]  ep49 trainCE=668.2617  | t=1h 37m 58.61s\n",
            "[SAM]  ep50 trainCE=667.6428  valCE=404.6606  valAcc=0.5131  | t=1h 39m 58.09s\n",
            "\n",
            "Final epoch summary:\n",
            "  SGD –   trainCE=662.5176  valCE=402.8210  valAcc=0.5128\n",
            "  RS  –   trainCE=9.9718  valCE=14.6402  valAcc=0.5456\n",
            "  SAM –   trainCE=667.6428  valCE=404.6606  valAcc=0.5131\n"
          ]
        }
      ]
    },
    {
      "cell_type": "code",
      "source": [
        "# --- Cell 9: Plots: train vs validation CE for each algorithm ---\n",
        "epochs_rs  = list(range(1, len(ce_tr_rs)+1))\n",
        "epochs_sgd = list(range(1, len(tr_sgd)+1))\n",
        "epochs_sam = list(range(1, len(tr_sam)+1))\n",
        "\n",
        "plt.figure(figsize=(7,4))\n",
        "plt.plot(epochs_sgd, tr_sgd, label=\"SGD train\")\n",
        "plt.plot(epochs_sgd, val_sgd, label=\"SGD val\")\n",
        "plt.plot(epochs_sam, tr_sam, label=\"SAM train\")\n",
        "plt.plot(epochs_sam, val_sam, label=\"SAM val\")\n",
        "plt.plot(epochs_rs,  ce_tr_rs, label=\"RS train\")\n",
        "plt.plot(epochs_rs,  ce_val_rs, label=\"RS val\")\n",
        "plt.title(\"Cross-Entropy vs Epoch\")\n",
        "plt.xlabel(\"Epoch\"); plt.ylabel(\"CE\")\n",
        "plt.legend(); plt.grid(True, alpha=0.25); plt.tight_layout()\n",
        "plt.show()\n",
        "\n",
        "# --- NEW: plot κ over epochs for RS (τ fixed) ---\n",
        "plt.figure(figsize=(7,4))\n",
        "plt.plot(epochs_rs, kappa_hist, label=\"κ (fixed τ)\")\n",
        "plt.axhline(0.0, linestyle=\"--\", linewidth=1)\n",
        "plt.title(\"Kappa (κ) vs Epoch (RS)\")\n",
        "plt.xlabel(\"Epoch\"); plt.ylabel(\"κ\")\n",
        "plt.legend(); plt.grid(True, alpha=0.25); plt.tight_layout()\n",
        "plt.show()\n",
        "\n",
        "# Optional: plot validation accuracy to see generalization directly\n",
        "plt.figure(figsize=(7,4))\n",
        "plt.plot(epochs_sgd, acc_sgd, label=\"SGD valAcc\")\n",
        "plt.plot(epochs_sam, acc_sam, label=\"SAM valAcc\")\n",
        "plt.plot(epochs_rs,  acc_val_rs, label=\"RS valAcc\")\n",
        "plt.title(\"Validation Accuracy vs Epoch\")\n",
        "plt.xlabel(\"Epoch\"); plt.ylabel(\"Accuracy\")\n",
        "plt.legend(); plt.grid(True, alpha=0.25); plt.tight_layout()\n",
        "plt.show()"
      ],
      "metadata": {
        "colab": {
          "base_uri": "https://localhost:8080/",
          "height": 1000
        },
        "id": "55FSNdx3p5Z1",
        "outputId": "125a2ca9-6f07-4971-e9f5-e2d9c3b19a64"
      },
      "execution_count": 11,
      "outputs": [
        {
          "output_type": "display_data",
          "data": {
            "text/plain": [
              "<Figure size 700x400 with 1 Axes>"
            ],
            "image/png": "[encoded data removed]"
          },
          "metadata": {}
        },
        {
          "output_type": "display_data",
          "data": {
            "text/plain": [
              "<Figure size 700x400 with 1 Axes>"
            ],
            "image/png": "[encoded data removed]"
          },
          "metadata": {}
        },
        {
          "output_type": "display_data",
          "data": {
            "text/plain": [
              "<Figure size 700x400 with 1 Axes>"
            ],
            "image/png": "[encoded data removed]"
          },
          "metadata": {}
        }
      ]
    },
    {
      "cell_type": "code",
      "source": [
        "# Cell 10 ▸ Save models to Google Drive (optional)\n",
        "save_dir = \"/content/drive/My Drive/camelyon17_checkpoints\"\n",
        "os.makedirs(save_dir, exist_ok=True)\n",
        "torch.save(model_sgd.state_dict(), f\"{save_dir}/sgd.pth\")\n",
        "torch.save(model_rs.state_dict(),  f\"{save_dir}/rs.pth\")\n",
        "torch.save(model_sam.state_dict(), f\"{save_dir}/sam.pth\")\n",
        "print(\"✔️  Models saved to\", save_dir)\n"
      ],
      "metadata": {
        "id": "VtnINZYp9_qh",
        "colab": {
          "base_uri": "https://localhost:8080/"
        },
        "outputId": "9f375f3f-9589-4a74-df4b-79e11b187bd1"
      },
      "execution_count": 12,
      "outputs": [
        {
          "output_type": "stream",
          "name": "stdout",
          "text": [
            "✔️  Models saved to /content/drive/My Drive/camelyon17_checkpoints\n"
          ]
        }
      ]
    },
    {
      "cell_type": "code",
      "source": [
        "# Cell 11: disconnect from runtime\n",
        "from google.colab import runtime\n",
        "runtime.unassign()"
      ],
      "metadata": {
        "id": "mWk8EWMM35_c"
      },
      "execution_count": 13,
      "outputs": []
    },
    {
      "cell_type": "code",
      "source": [],
      "metadata": {
        "id": "UoG9QuKq359J"
      },
      "execution_count": 13,
      "outputs": []
    },
    {
      "cell_type": "code",
      "source": [],
      "metadata": {
        "id": "b04JQtuv356v"
      },
      "execution_count": 13,
      "outputs": []
    }
  ]
}